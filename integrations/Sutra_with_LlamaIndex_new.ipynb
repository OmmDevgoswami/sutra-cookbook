{
  "cells": [
    {
      "cell_type": "markdown",
      "metadata": {
        "id": "_zIiYGJZZOsH"
      },
      "source": [
        "<div style=\"display: flex; align-items: center; gap: 40px;\">\n",
        "\n",
        "<img src=\"https://play-lh.googleusercontent.com/_O9p4Z4yucA2NLmZBu9mTJCuBwXeT9NcbtrDN6I8gKlkIPRySV0adOmbyipjSj9Gew\" width=\"130\"><img src=\"https://encrypted-tbn0.gstatic.com/images?q=tbn:ANd9GcQmC5gqclRICsDUVYV9uQXVaIfH3gCapSdjEQ&s\" width=\"130\">\n",
        "\n",
        "\n",
        "[![Open In Colab](https://colab.research.google.com/assets/colab-badge.svg)](https://colab.research.google.com/drive/1IzEMvNDPmPa8OWYLUn2Y_7XA-xq1UUKX?usp=sharing)\n",
        "\n",
        "<div>\n",
        "  <h2>SUTRA by TWO Platforms</h2>\n",
        "  <p>SUTRA is a family of large multi-lingual language (LMLMs) models pioneered by Two Platforms. SUTRA\u2019s dual-transformer approach extends the power of both MoE and Dense AI language model architectures, delivering cost-efficient multilingual capabilities for over 50+ languages. It powers scalable AI applications for conversation, search, and advanced reasoning, ensuring high-performance across diverse languages, domains and applications.</p>\n",
        "\n",
        "  <h2>LlamaIndex \ud83e\udd99</h2>\n",
        "  <p>LlamaIndex is the leading framework for building LLM-powered agents over your data with LLMs and workflows.</p>\n",
        "</div>\n",
        "</div>\n"
      ]
    },
    {
      "cell_type": "markdown",
      "metadata": {},
      "source": [
        "## Get Your API Keys\n",
        "\n",
        "Before you begin, make sure you have:\n",
        "\n",
        "1. A SUTRA API key (Get yours at [TWO AI's SUTRA API page](https://www.two.ai/sutra/api))\n",
        "2. Basic familiarity with Python and Jupyter notebooks\n",
        "\n",
        "This notebook is designed to run in Google Colab, so no local Python installation is required."
      ]
    },
    {
      "cell_type": "markdown",
      "metadata": {
        "id": "468wYMncagrN"
      },
      "source": [
        "###Sutra using LlamaIndex \ud83e\udd99"
      ]
    },
    {
      "cell_type": "markdown",
      "metadata": {
        "id": "YMn1dXjgamFU"
      },
      "source": [
        "###Install Requirements"
      ]
    },
    {
      "cell_type": "code",
      "execution_count": null,
      "metadata": {
        "colab": {
          "base_uri": "https://localhost:8080/"
        },
        "id": "R_62EQccD-Fx",
        "outputId": "309d91fe-abab-47c2-aa96-b36f3fc13462"
      },
      "outputs": [
        {
          "name": "stdout",
          "output_type": "stream",
          "text": [
            "\u001b[2K   \u001b[90m\u2501\u2501\u2501\u2501\u2501\u2501\u2501\u2501\u2501\u2501\u2501\u2501\u2501\u2501\u2501\u2501\u2501\u2501\u2501\u2501\u2501\u2501\u2501\u2501\u2501\u2501\u2501\u2501\u2501\u2501\u2501\u2501\u2501\u2501\u2501\u2501\u2501\u2501\u2501\u2501\u001b[0m \u001b[32m31.3/31.3 MB\u001b[0m \u001b[31m17.0 MB/s\u001b[0m eta \u001b[36m0:00:00\u001b[0m\n",
            "\u001b[2K   \u001b[90m\u2501\u2501\u2501\u2501\u2501\u2501\u2501\u2501\u2501\u2501\u2501\u2501\u2501\u2501\u2501\u2501\u2501\u2501\u2501\u2501\u2501\u2501\u2501\u2501\u2501\u2501\u2501\u2501\u2501\u2501\u2501\u2501\u2501\u2501\u2501\u2501\u2501\u2501\u2501\u2501\u001b[0m \u001b[32m139.8/139.8 kB\u001b[0m \u001b[31m8.2 MB/s\u001b[0m eta \u001b[36m0:00:00\u001b[0m\n",
            "\u001b[2K   \u001b[90m\u2501\u2501\u2501\u2501\u2501\u2501\u2501\u2501\u2501\u2501\u2501\u2501\u2501\u2501\u2501\u2501\u2501\u2501\u2501\u2501\u2501\u2501\u2501\u2501\u2501\u2501\u2501\u2501\u2501\u2501\u2501\u2501\u2501\u2501\u2501\u2501\u2501\u2501\u2501\u2501\u001b[0m \u001b[32m7.7/7.7 MB\u001b[0m \u001b[31m71.8 MB/s\u001b[0m eta \u001b[36m0:00:00\u001b[0m\n",
            "\u001b[2K   \u001b[90m\u2501\u2501\u2501\u2501\u2501\u2501\u2501\u2501\u2501\u2501\u2501\u2501\u2501\u2501\u2501\u2501\u2501\u2501\u2501\u2501\u2501\u2501\u2501\u2501\u2501\u2501\u2501\u2501\u2501\u2501\u2501\u2501\u2501\u2501\u2501\u2501\u2501\u2501\u2501\u2501\u001b[0m \u001b[32m40.8/40.8 kB\u001b[0m \u001b[31m2.3 MB/s\u001b[0m eta \u001b[36m0:00:00\u001b[0m\n",
            "\u001b[2K   \u001b[90m\u2501\u2501\u2501\u2501\u2501\u2501\u2501\u2501\u2501\u2501\u2501\u2501\u2501\u2501\u2501\u2501\u2501\u2501\u2501\u2501\u2501\u2501\u2501\u2501\u2501\u2501\u2501\u2501\u2501\u2501\u2501\u2501\u2501\u2501\u2501\u2501\u2501\u2501\u2501\u2501\u001b[0m \u001b[32m2.2/2.2 MB\u001b[0m \u001b[31m55.8 MB/s\u001b[0m eta \u001b[36m0:00:00\u001b[0m\n",
            "\u001b[2K   \u001b[90m\u2501\u2501\u2501\u2501\u2501\u2501\u2501\u2501\u2501\u2501\u2501\u2501\u2501\u2501\u2501\u2501\u2501\u2501\u2501\u2501\u2501\u2501\u2501\u2501\u2501\u2501\u2501\u2501\u2501\u2501\u2501\u2501\u2501\u2501\u2501\u2501\u2501\u2501\u2501\u2501\u001b[0m \u001b[32m1.6/1.6 MB\u001b[0m \u001b[31m6.1 MB/s\u001b[0m eta \u001b[36m0:00:00\u001b[0m\n",
            "\u001b[2K   \u001b[90m\u2501\u2501\u2501\u2501\u2501\u2501\u2501\u2501\u2501\u2501\u2501\u2501\u2501\u2501\u2501\u2501\u2501\u2501\u2501\u2501\u2501\u2501\u2501\u2501\u2501\u2501\u2501\u2501\u2501\u2501\u2501\u2501\u2501\u2501\u2501\u2501\u2501\u2501\u2501\u2501\u001b[0m \u001b[32m263.6/263.6 kB\u001b[0m \u001b[31m16.1 MB/s\u001b[0m eta \u001b[36m0:00:00\u001b[0m\n",
            "\u001b[2K   \u001b[90m\u2501\u2501\u2501\u2501\u2501\u2501\u2501\u2501\u2501\u2501\u2501\u2501\u2501\u2501\u2501\u2501\u2501\u2501\u2501\u2501\u2501\u2501\u2501\u2501\u2501\u2501\u2501\u2501\u2501\u2501\u2501\u2501\u2501\u2501\u2501\u2501\u2501\u2501\u2501\u2501\u001b[0m \u001b[32m302.3/302.3 kB\u001b[0m \u001b[31m11.7 MB/s\u001b[0m eta \u001b[36m0:00:00\u001b[0m\n",
            "\u001b[2K   \u001b[90m\u2501\u2501\u2501\u2501\u2501\u2501\u2501\u2501\u2501\u2501\u2501\u2501\u2501\u2501\u2501\u2501\u2501\u2501\u2501\u2501\u2501\u2501\u2501\u2501\u2501\u2501\u2501\u2501\u2501\u2501\u2501\u2501\u2501\u2501\u2501\u2501\u2501\u2501\u2501\u2501\u001b[0m \u001b[32m1.2/1.2 MB\u001b[0m \u001b[31m33.2 MB/s\u001b[0m eta \u001b[36m0:00:00\u001b[0m\n",
            "\u001b[2K   \u001b[90m\u2501\u2501\u2501\u2501\u2501\u2501\u2501\u2501\u2501\u2501\u2501\u2501\u2501\u2501\u2501\u2501\u2501\u2501\u2501\u2501\u2501\u2501\u2501\u2501\u2501\u2501\u2501\u2501\u2501\u2501\u2501\u2501\u2501\u2501\u2501\u2501\u2501\u2501\u2501\u2501\u001b[0m \u001b[32m50.9/50.9 kB\u001b[0m \u001b[31m3.1 MB/s\u001b[0m eta \u001b[36m0:00:00\u001b[0m\n",
            "\u001b[2K   \u001b[90m\u2501\u2501\u2501\u2501\u2501\u2501\u2501\u2501\u2501\u2501\u2501\u2501\u2501\u2501\u2501\u2501\u2501\u2501\u2501\u2501\u2501\u2501\u2501\u2501\u2501\u2501\u2501\u2501\u2501\u2501\u2501\u2501\u2501\u2501\u2501\u2501\u2501\u2501\u2501\u2501\u001b[0m \u001b[32m129.3/129.3 kB\u001b[0m \u001b[31m8.5 MB/s\u001b[0m eta \u001b[36m0:00:00\u001b[0m\n",
            "\u001b[?25h"
          ]
        }
      ],
      "source": [
        "!pip install -qU llama-index llama-index-llms-openai-like llama-index-vector-stores-faiss faiss-cpu ipywidgets"
      ]
    },
    {
      "cell_type": "markdown",
      "metadata": {
        "id": "G8Gq3jNOap6J"
      },
      "source": [
        "###Setup API Keys"
      ]
    },
    {
      "cell_type": "code",
      "execution_count": null,
      "metadata": {
        "id": "He-gNIfuE_bw"
      },
      "outputs": [],
      "source": [
        "import os\n",
        "from google.colab import userdata\n",
        "\n",
        "# Set the API key from Colab secrets\n",
        "os.environ[\"SUTRA_API_KEY\"] = userdata.get(\"SUTRA_API_KEY\")\n",
        "os.environ[\"OPENAI_API_KEY\"] = userdata.get(\"OPENAI_API_KEY\")"
      ]
    },
    {
      "cell_type": "markdown",
      "metadata": {
        "id": "1c33niB0avy1"
      },
      "source": [
        "###Initialize Sutra Model via LlamaIndex \ud83e\udd99:"
      ]
    },
    {
      "cell_type": "code",
      "execution_count": null,
      "metadata": {
        "colab": {
          "base_uri": "https://localhost:8080/"
        },
        "id": "IK3ffJhpREuA",
        "outputId": "cc4df1ac-d228-4ba0-8805-d53e00340d88"
      },
      "outputs": [
        {
          "name": "stdout",
          "output_type": "stream",
          "text": [
            "\u092e\u0948\u0902 \u0920\u0940\u0915 \u0939\u0942\u0901, \u0927\u0928\u094d\u092f\u0935\u093e\u0926! \u0906\u092a \u0915\u0948\u0938\u0947 \u0939\u0948\u0902?\n"
          ]
        }
      ],
      "source": [
        "from llama_index.llms.openai_like import OpenAILike\n",
        "\n",
        "# Initialize Sutra LLM with necessary parameters\n",
        "llm = OpenAILike(\n",
        "    model=\"sutra-v2\",                    # Sutra model name\n",
        "    api_base=\"https://api.two.ai/v2\",    # Sutra API base URL\n",
        "    api_key=os.getenv(\"SUTRA_API_KEY\"),  # Sutra API key\n",
        "    is_chat_model=True,                  # Mandatory: Set to True for chat-based models\n",
        ")\n",
        "\n",
        "# Send request and print response\n",
        "response = llm.complete(\"\u0915\u0948\u0938\u0947 \u0939\u094b?\")       # Sending a message to the model in Hindi (\"How are you?\")\n",
        "print(str(response))"
      ]
    },
    {
      "cell_type": "markdown",
      "metadata": {
        "id": "ynnSF9pka4uh"
      },
      "source": [
        "###Multilingual capabilities using LlamaIndex \ud83e\udd99"
      ]
    },
    {
      "cell_type": "code",
      "execution_count": null,
      "metadata": {
        "colab": {
          "base_uri": "https://localhost:8080/"
        },
        "id": "lNO6tVCvSXfh",
        "outputId": "ce4cce5e-9567-426c-d492-7ddf9536634f"
      },
      "outputs": [
        {
          "name": "stdout",
          "output_type": "stream",
          "text": [
            "\n",
            "Prompt: \u0c24\u0c46\u0c32\u0c41\u0c17\u0c41\u0c32\u0c4b \u0c12\u0c15 \u0c15\u0c25 \u0c1a\u0c46\u0c2a\u0c4d\u0c2a\u0c41?\n",
            "Response: \u0c12\u0c15 \u0c17\u0c4d\u0c30\u0c3e\u0c2e\u0c02\u0c32\u0c4b \u0c12\u0c15 \u0c1a\u0c3f\u0c28\u0c4d\u0c28 \u0c2a\u0c3f\u0c32\u0c4d\u0c32\u0c35\u0c3e\u0c21\u0c41 \u0c09\u0c02\u0c21\u0c47\u0c35\u0c3e\u0c21\u0c41. \u0c05\u0c24\u0c28\u0c3f \u0c2a\u0c47\u0c30\u0c41 \u0c30\u0c3e\u0c2e\u0c4d. \u0c30\u0c3e\u0c2e\u0c4d \u0c1a\u0c3e\u0c32\u0c3e \u0c1a\u0c41\u0c30\u0c41\u0c15\u0c41\u0c17\u0c3e \u0c09\u0c02\u0c21\u0c47\u0c35\u0c3e\u0c21\u0c41, \u0c15\u0c3e\u0c28\u0c40 \u0c05\u0c24\u0c28\u0c3f\u0c15\u0c3f \u0c1a\u0c26\u0c41\u0c35\u0c41\u0c32\u0c4b \u0c06\u0c38\u0c15\u0c4d\u0c24\u0c3f \u0c32\u0c47\u0c26\u0c41. \u0c05\u0c24\u0c28\u0c41 \u0c0e\u0c2a\u0c4d\u0c2a\u0c41\u0c21\u0c42 \u0c06\u0c1f\u0c32\u0c32\u0c4b\u0c28\u0c47 \u0c2e\u0c41\u0c28\u0c3f\u0c17\u0c3f\u0c2a\u0c4b\u0c2f\u0c47\u0c35\u0c3e\u0c21\u0c41. \n",
            "\n",
            "\u0c12\u0c15 \u0c30\u0c4b\u0c1c\u0c41, \u0c30\u0c3e\u0c2e\u0c4d \u0c24\u0c28 \u0c38\u0c4d\u0c28\u0c47\u0c39\u0c3f\u0c24\u0c41\u0c32\u0c24\u0c4b \u0c15\u0c32\u0c3f\u0c38\u0c3f \u0c05\u0c21\u0c35\u0c3f\u0c32\u0c4b\u0c15\u0c3f \u0c35\u0c46\u0c33\u0c4d\u0c32\u0c3e\u0c21\u0c41. \u0c05\u0c15\u0c4d\u0c15\u0c21 \u0c35\u0c3e\u0c30\u0c41 \u0c12\u0c15 \u0c2a\u0c3e\u0c24 \u0c1a\u0c46\u0c1f\u0c4d\u0c1f\u0c41 \u0c15\u0c3f\u0c02\u0c26 \u0c15\u0c42\u0c30\u0c4d\u0c1a\u0c4a\u0c28\u0c3f \u0c06\u0c1f\u0c32\u0c41 \u0c06\u0c21\u0c41\u0c24\u0c41\u0c28\u0c4d\u0c28\u0c3e\u0c30\u0c41. \u0c06 \u0c38\u0c2e\u0c2f\u0c02\u0c32\u0c4b, \u0c30\u0c3e\u0c2e\u0c4d \u0c06 \u0c1a\u0c46\u0c1f\u0c4d\u0c1f\u0c41\u0c15\u0c41 \u0c26\u0c17\u0c4d\u0c17\u0c30\u0c17\u0c3e \u0c35\u0c46\u0c33\u0c4d\u0c32\u0c3f, \u0c26\u0c3e\u0c28\u0c3f \u0c15\u0c4a\u0c2e\u0c4d\u0c2e\u0c32\u0c28\u0c41 \u0c1a\u0c42\u0c38\u0c3e\u0c21\u0c41. \u0c05\u0c2a\u0c4d\u0c2a\u0c41\u0c21\u0c41 \u0c05\u0c24\u0c28\u0c3f\u0c15\u0c3f \u0c06 \u0c1a\u0c46\u0c1f\u0c4d\u0c1f\u0c41 \u0c17\u0c41\u0c30\u0c3f\u0c02\u0c1a\u0c3f \u0c24\u0c46\u0c32\u0c41\u0c38\u0c41\u0c15\u0c4b\u0c35\u0c3e\u0c32\u0c28\u0c3f\u0c2a\u0c3f\u0c02\u0c1a\u0c3f\u0c02\u0c26\u0c3f. \n",
            "\n",
            "\u0c05\u0c24\u0c28\u0c41 \u0c05\u0c21\u0c35\u0c3f\u0c32\u0c4b \u0c09\u0c28\u0c4d\u0c28 \u0c2a\u0c46\u0c26\u0c4d\u0c26\u0c35\u0c3e\u0c30\u0c3f\u0c28\u0c3f \u0c05\u0c21\u0c3f\u0c17\u0c3e\u0c21\u0c41, \"\u0c08 \u0c1a\u0c46\u0c1f\u0c4d\u0c1f\u0c41 \u0c0e\u0c02\u0c24 \u0c2a\u0c3e\u0c24\u0c26\u0c3f?\" \u0c2a\u0c46\u0c26\u0c4d\u0c26\u0c35\u0c3e\u0c21\u0c41 \u0c38\u0c2e\u0c3e\u0c27\u0c3e\u0c28\u0c02 \u0c07\u0c1a\u0c4d\u0c1a\u0c3e\u0c21\u0c41, \"\u0c08 \u0c1a\u0c46\u0c1f\u0c4d\u0c1f\u0c41 \u0c35\u0c02\u0c26 \u0c38\u0c02\u0c35\u0c24\u0c4d\u0c38\u0c30\u0c3e\u0c32 \u0c2a\u0c3e\u0c24\u0c26\u0c3f. \u0c07\u0c26\u0c3f \u0c0e\u0c28\u0c4d\u0c28\u0c4b \u0c15\u0c25\u0c32\u0c41 \u0c1a\u0c46\u0c2a\u0c4d\u0c2a\u0c17\u0c32\u0c26\u0c41.\" \n",
            "\n",
            "\u0c30\u0c3e\u0c2e\u0c4d \u0c06 \u0c1a\u0c46\u0c1f\u0c4d\u0c1f\u0c41\u0c15\u0c41 \u0c26\u0c17\u0c4d\u0c17\u0c30\u0c17\u0c3e \u0c35\u0c46\u0c33\u0c4d\u0c32\u0c3f, \"\u0c28\u0c47\u0c28\u0c41 \u0c28\u0c40 \u0c15\u0c25\u0c32\u0c41 \u0c35\u0c3f\u0c28\u0c3e\u0c32\u0c28\u0c41\u0c15\u0c41\u0c02\u0c1f\u0c41\u0c28\u0c4d\u0c28\u0c3e\u0c28\u0c41\" \u0c05\u0c28\u0c3f \u0c1a\u0c46\u0c2a\u0c4d\u0c2a\u0c3e\u0c21\u0c41. \u0c05\u0c2a\u0c4d\u0c2a\u0c41\u0c21\u0c41 \u0c1a\u0c46\u0c1f\u0c4d\u0c1f\u0c41 \u0c12\u0c15 \u0c2e\u0c3e\u0c2f\u0c3e\u0c1c\u0c3e\u0c32\u0c02\u0c32\u0c4b\u0c15\u0c3f \u0c2e\u0c3e\u0c30\u0c3f\u0c02\u0c26\u0c3f. \u0c1a\u0c46\u0c1f\u0c4d\u0c1f\u0c41 \u0c2e\u0c3e\u0c1f\u0c4d\u0c32\u0c3e\u0c21\u0c1f\u0c02 \u0c2a\u0c4d\u0c30\u0c3e\u0c30\u0c02\u0c2d\u0c3f\u0c02\u0c1a\u0c3f\u0c02\u0c26\u0c3f. \"\u0c28\u0c47\u0c28\u0c41 \u0c0e\u0c28\u0c4d\u0c28\u0c4b \u0c15\u0c3e\u0c32\u0c3e\u0c32 \u0c28\u0c41\u0c02\u0c21\u0c3f \u0c07\u0c15\u0c4d\u0c15\u0c21 \u0c09\u0c28\u0c4d\u0c28\u0c3e\u0c28\u0c41. \u0c28\u0c47\u0c28\u0c41 \u0c1a\u0c42\u0c38\u0c3f\u0c28 \u0c05\u0c28\u0c47\u0c15 \u0c38\u0c02\u0c18\u0c1f\u0c28\u0c32\u0c41, \u0c2a\u0c4d\u0c30\u0c47\u0c2e, \u0c2f\u0c41\u0c26\u0c4d\u0c27\u0c3e\u0c32\u0c41, \u0c06\u0c28\u0c02\u0c26\u0c02 \u0c2e\u0c30\u0c3f\u0c2f\u0c41 \u0c26\u0c41\u0c03\u0c16\u0c02 \u0c05\u0c28\u0c4d\u0c28\u0c40 \u0c28\u0c3e\u0c15\u0c41 \u0c17\u0c41\u0c30\u0c4d\u0c24\u0c41\u0c28\u0c4d\u0c28\u0c3e\u0c2f\u0c3f.\"\n",
            "\n",
            "\u0c30\u0c3e\u0c2e\u0c4d \u0c1a\u0c46\u0c1f\u0c4d\u0c1f\u0c41\u0c24\u0c4b \u0c2e\u0c3e\u0c1f\u0c4d\u0c32\u0c3e\u0c21\u0c3f, \u0c05\u0c02\u0c26\u0c41\u0c32\u0c4b\u0c28\u0c3f \u0c1c\u0c4d\u0c1e\u0c3e\u0c28\u0c3e\u0c28\u0c4d\u0c28\u0c3f \u0c24\u0c46\u0c32\u0c41\u0c38\u0c41\u0c15\u0c4b\u0c35\u0c3e\u0c32\u0c28\u0c3f \u0c28\u0c3f\u0c30\u0c4d\u0c23\u0c2f\u0c3f\u0c02\u0c1a\u0c41\u0c15\u0c41\u0c28\u0c4d\u0c28\u0c3e\u0c21\u0c41. \u0c30\u0c4b\u0c1c\u0c41\u0c32\u0c41 \u0c17\u0c21\u0c3f\u0c1a\u0c3e\u0c2f\u0c3f, \u0c30\u0c3e\u0c2e\u0c4d \u0c2a\u0c4d\u0c30\u0c24\u0c3f\u0c30\u0c4b\u0c1c\u0c42 \u0c1a\u0c46\u0c1f\u0c4d\u0c1f\u0c41\u0c15\u0c41 \u0c35\u0c1a\u0c4d\u0c1a\u0c3f \u0c15\u0c4a\u0c24\u0c4d\u0c24 \u0c35\u0c3f\u0c37\u0c2f\u0c3e\u0c32\u0c41 \u0c24\u0c46\u0c32\u0c41\u0c38\u0c41\u0c15\u0c41\u0c28\u0c47 \u0c2a\u0c4d\u0c30\u0c2f\u0c24\u0c4d\u0c28\u0c02 \u0c1a\u0c47\u0c36\u0c3e\u0c21\u0c41. \n",
            "\n",
            "\u0c1a\u0c46\u0c1f\u0c4d\u0c1f\u0c41 \u0c30\u0c3e\u0c2e\u0c4d\u200c\u0c15\u0c41 \u0c1a\u0c26\u0c41\u0c35\u0c41, \u0c1c\u0c40\u0c35\u0c3f\u0c24\u0c02, \u0c2e\u0c30\u0c3f\u0c2f\u0c41 \u0c38\u0c4d\u0c28\u0c47\u0c39\u0c02 \u0c17\u0c41\u0c30\u0c3f\u0c02\u0c1a\u0c3f \u0c0e\u0c28\u0c4d\u0c28\u0c4b \u0c2a\u0c3e\u0c20\u0c3e\u0c32\u0c41 \u0c28\u0c47\u0c30\u0c4d\u0c2a\u0c3f\u0c02\u0c1a\u0c3f\u0c02\u0c26\u0c3f. \u0c1a\u0c3f\u0c35\u0c30\u0c15\u0c41, \u0c30\u0c3e\u0c2e\u0c4d \u0c1a\u0c26\u0c41\u0c35\u0c41\u0c32\u0c4b \u0c06\u0c38\u0c15\u0c4d\u0c24\u0c3f \u0c2a\u0c46\u0c02\u0c1a\u0c41\u0c15\u0c41\u0c28\u0c3f, \u0c2e\u0c02\u0c1a\u0c3f \u0c35\u0c3f\u0c26\u0c4d\u0c2f\u0c3e\u0c30\u0c4d\u0c25\u0c3f\u0c17\u0c3e \u0c2e\u0c3e\u0c30\u0c3e\u0c21\u0c41. \n",
            "\n",
            "\u0c08 \u0c35\u0c3f\u0c27\u0c02\u0c17\u0c3e, \u0c1a\u0c46\u0c1f\u0c4d\u0c1f\u0c41 \u0c26\u0c4d\u0c35\u0c3e\u0c30\u0c3e \u0c30\u0c3e\u0c2e\u0c4d \u0c24\u0c28 \u0c1c\u0c40\u0c35\u0c3f\u0c24\u0c3e\u0c28\u0c4d\u0c28\u0c3f \u0c2e\u0c3e\u0c30\u0c4d\u0c1a\u0c41\u0c15\u0c41\u0c28\u0c4d\u0c28\u0c3e\u0c21\u0c41. \u0c05\u0c24\u0c28\u0c41 \u0c17\u0c4d\u0c30\u0c39\u0c3f\u0c02\u0c1a\u0c3e\u0c21\u0c41, \u0c1c\u0c4d\u0c1e\u0c3e\u0c28\u0c02 \u0c2a\u0c4a\u0c02\u0c26\u0c21\u0c02 \u0c0e\u0c02\u0c24 \u0c2e\u0c41\u0c16\u0c4d\u0c2f\u0c2e\u0c4b. \n",
            "\n",
            "\u0c08 \u0c15\u0c25 \u0c2e\u0c28\u0c15\u0c41 \u0c24\u0c46\u0c32\u0c3f\u0c2f\u0c1c\u0c47\u0c38\u0c4d\u0c24\u0c41\u0c02\u0c26\u0c3f, \u0c1c\u0c4d\u0c1e\u0c3e\u0c28\u0c02 \u0c0e\u0c15\u0c4d\u0c15\u0c21\u0c3f \u0c28\u0c41\u0c02\u0c1a\u0c48\u0c28\u0c3e \u0c30\u0c3e\u0c35\u0c1a\u0c4d\u0c1a\u0c41, \u0c15\u0c3e\u0c2c\u0c1f\u0c4d\u0c1f\u0c3f \u0c2e\u0c28\u0c02 \u0c0e\u0c2a\u0c4d\u0c2a\u0c41\u0c21\u0c42 \u0c28\u0c47\u0c30\u0c4d\u0c1a\u0c41\u0c15\u0c4b\u0c35\u0c21\u0c3e\u0c28\u0c3f\u0c15\u0c3f \u0c38\u0c3f\u0c26\u0c4d\u0c27\u0c02\u0c17\u0c3e \u0c09\u0c02\u0c21\u0c3e\u0c32\u0c3f.\n",
            "\n",
            "\n",
            "Prompt: Une histoire en fran\u00e7ais, s'il vous pla\u00eet.\n",
            "Response: Il \u00e9tait une fois, dans un petit village nich\u00e9 au c\u0153ur des montagnes, une jeune fille nomm\u00e9e \u00c9lodie. \u00c9lodie avait un r\u00eave : explorer le monde au-del\u00e0 des sommets qui entouraient son village. Chaque jour, elle s'asseyait pr\u00e8s de la fen\u00eatre de sa chambre, regardant les nuages flotter et imaginant les aventures qui l'attendaient.\n",
            "\n",
            "Un matin, alors qu'elle se promenait dans la for\u00eat voisine, \u00c9lodie d\u00e9couvrit un vieux livre en cuir cach\u00e9 sous un tas de feuilles. Curieuse, elle l'ouvrit et trouva des histoires de contr\u00e9es lointaines, de cr\u00e9atures fantastiques et de tr\u00e9sors cach\u00e9s. En lisant ces r\u00e9cits, son d\u00e9sir d'aventure grandit encore plus.\n",
            "\n",
            "D\u00e9cid\u00e9e \u00e0 r\u00e9aliser son r\u00eave, \u00c9lodie commen\u00e7a \u00e0 pr\u00e9parer son voyage. Elle rassembla quelques provisions, une carte ancienne qu'elle avait trouv\u00e9e dans le grenier de sa grand-m\u00e8re, et un petit m\u00e9daillon que sa m\u00e8re lui avait offert pour la prot\u00e9ger. Le lendemain, elle se leva avant l'aube et, avec un c\u0153ur plein d'espoir, elle quitta son village.\n",
            "\n",
            "Au cours de son p\u00e9riple, \u00c9lodie rencontra des personnages fascinants : un sage ermite qui lui enseigna la patience, une troupe de musiciens itin\u00e9rants qui lui apprirent la joie de vivre, et un jeune gar\u00e7on nomm\u00e9 Lucas, qui devint son fid\u00e8le compagnon. Ensemble, ils affront\u00e8rent des temp\u00eates, travers\u00e8rent des rivi\u00e8res tumultueuses et escalad\u00e8rent des montagnes escarp\u00e9es.\n",
            "\n",
            "Un jour, alors qu'ils exploraient une grotte myst\u00e9rieuse, ils d\u00e9couvrirent un tr\u00e9sor cach\u00e9 : des pierres pr\u00e9cieuses scintillantes et des artefacts anciens. Mais au lieu de garder ce tr\u00e9sor pour eux, \u00c9lodie et Lucas d\u00e9cid\u00e8rent de le ramener au village pour partager leur d\u00e9couverte avec tous. Ils savaient que la v\u00e9ritable richesse r\u00e9sidait dans les liens qu'ils avaient tiss\u00e9s et les exp\u00e9riences v\u00e9cues ensemble.\n",
            "\n",
            "De retour chez elle, \u00c9lodie fut accueillie en h\u00e9ro\u00efne. Elle raconta ses aventures, inspirant les autres villageois \u00e0 poursuivre leurs propres r\u00eaves. Gr\u00e2ce \u00e0 son courage et \u00e0 sa d\u00e9termination, le village devint un lieu o\u00f9 chacun osait r\u00eaver et explorer.\n",
            "\n",
            "Et ainsi, \u00c9lodie comprit que le voyage \u00e9tait tout aussi important que la destination. Elle continua \u00e0 explorer le monde, mais toujours avec le souvenir de son village et des amis qu'elle avait rencontr\u00e9s en chemin.\n",
            "\n",
            "\n",
            "Prompt: Por favor, cu\u00e9ntame una historia en espa\u00f1ol.\n",
            "Response: Hab\u00eda una vez en un peque\u00f1o pueblo llamado Valle Verde, un joven llamado Lucas que so\u00f1aba con ser aventurero. Desde ni\u00f1o, pasaba horas leyendo libros sobre exploradores y tierras lejanas. Sin embargo, su vida en el pueblo era tranquila y mon\u00f3tona, rodeado de monta\u00f1as y r\u00edos que nunca hab\u00eda explorado.\n",
            "\n",
            "Un d\u00eda, mientras caminaba por el bosque cercano, Lucas encontr\u00f3 un viejo mapa escondido entre las ra\u00edces de un \u00e1rbol. El mapa mostraba un camino hacia una cueva misteriosa en la monta\u00f1a m\u00e1s alta del valle. Intrigado, decidi\u00f3 que era el momento de vivir la aventura que siempre hab\u00eda deseado.\n",
            "\n",
            "Al amanecer del d\u00eda siguiente, Lucas se prepar\u00f3 con provisiones y comenz\u00f3 su viaje. A medida que ascend\u00eda por la monta\u00f1a, se encontr\u00f3 con diversos desaf\u00edos: r\u00edos caudalosos que cruzar, rocas resbaladizas y animales salvajes. Pero cada obst\u00e1culo lo hac\u00eda m\u00e1s fuerte y decidido.\n",
            "\n",
            "Finalmente, despu\u00e9s de d\u00edas de arduo esfuerzo, lleg\u00f3 a la entrada de la cueva. Con el coraz\u00f3n latiendo con fuerza, encendi\u00f3 una antorcha y entr\u00f3. Dentro, descubri\u00f3 pinturas rupestres que contaban historias de antiguos habitantes del valle y un cofre lleno de tesoros olvidados: joyas, monedas de oro y objetos m\u00e1gicos.\n",
            "\n",
            "Lucas comprendi\u00f3 que su aventura no solo le hab\u00eda tra\u00eddo riquezas materiales, sino tambi\u00e9n un profundo conocimiento sobre su historia y cultura. Decidi\u00f3 regresar al pueblo y compartir sus hallazgos con todos. Se convirti\u00f3 en un h\u00e9roe local, inspirando a otros a explorar y valorar su entorno.\n",
            "\n",
            "Desde entonces, Valle Verde se llen\u00f3 de nuevas aventuras, y Lucas nunca dej\u00f3 de buscar nuevas historias que contar. As\u00ed, el joven so\u00f1ador se transform\u00f3 en un verdadero aventurero, recordando siempre que la mayor riqueza est\u00e1 en las experiencias vividas y en el conocimiento adquirido.\n",
            "\n",
            "\n",
            "Prompt: \u0915\u0943\u092a\u092f\u093e \u0939\u093f\u0902\u0926\u0940 \u092e\u0947\u0902 \u090f\u0915 \u0915\u0939\u093e\u0928\u0940 \u0938\u0941\u0928\u093e\u0907\u090f\u0964\n",
            "Response: \u090f\u0915 \u092c\u093e\u0930 \u0915\u0940 \u092c\u093e\u0924 \u0939\u0948, \u090f\u0915 \u091b\u094b\u091f\u0947 \u0938\u0947 \u0917\u093e\u0901\u0935 \u092e\u0947\u0902 \u090f\u0915 \u0915\u093f\u0938\u093e\u0928 \u0930\u0939\u0924\u093e \u0925\u093e\u0964 \u0909\u0938\u0915\u093e \u0928\u093e\u092e \u0930\u093e\u092e\u0942 \u0925\u093e\u0964 \u0930\u093e\u092e\u0942 \u092c\u0939\u0941\u0924 \u092e\u0947\u0939\u0928\u0924\u0940 \u0914\u0930 \u0908\u092e\u093e\u0928\u0926\u093e\u0930 \u0915\u093f\u0938\u093e\u0928 \u0925\u093e, \u0932\u0947\u0915\u093f\u0928 \u0909\u0938\u0915\u0940 \u092b\u0938\u0932 \u0939\u092e\u0947\u0936\u093e \u0916\u0930\u093e\u092c \u0939\u094b\u0924\u0940 \u0925\u0940\u0964 \u0917\u093e\u0901\u0935 \u0915\u0947 \u0932\u094b\u0917 \u0909\u0938\u0947 \u092e\u091c\u093e\u0915 \u0909\u0921\u093c\u093e\u0924\u0947 \u0925\u0947, \u0932\u0947\u0915\u093f\u0928 \u0930\u093e\u092e\u0942 \u0915\u092d\u0940 \u0939\u093e\u0930 \u0928\u0939\u0940\u0902 \u092e\u093e\u0928\u0924\u093e \u0925\u093e\u0964\n",
            "\n",
            "\u090f\u0915 \u0926\u093f\u0928, \u0930\u093e\u092e\u0942 \u0928\u0947 \u0938\u094b\u091a\u093e \u0915\u093f \u0909\u0938\u0947 \u0915\u0941\u091b \u0928\u092f\u093e \u0915\u0930\u0928\u093e \u091a\u093e\u0939\u093f\u090f\u0964 \u0909\u0938\u0928\u0947 \u0917\u093e\u0901\u0935 \u0915\u0947 \u092a\u0941\u0930\u093e\u0928\u0947 \u092a\u0941\u0938\u094d\u0924\u0915\u093e\u0932\u092f \u0938\u0947 \u0915\u0943\u0937\u093f \u092a\u0930 \u0915\u0941\u091b \u0915\u093f\u0924\u093e\u092c\u0947\u0902 \u092a\u0922\u093c\u0940\u0902\u0964 \u0909\u0928 \u0915\u093f\u0924\u093e\u092c\u094b\u0902 \u092e\u0947\u0902 \u0909\u0938\u0947 \u092a\u0924\u093e \u091a\u0932\u093e \u0915\u093f \u092e\u093f\u091f\u094d\u091f\u0940 \u0915\u0940 \u0917\u0941\u0923\u0935\u0924\u094d\u0924\u093e \u0914\u0930 \u092b\u0938\u0932 \u091a\u0915\u094d\u0930 \u0915\u093e \u0927\u094d\u092f\u093e\u0928 \u0930\u0916\u0928\u093e \u0915\u093f\u0924\u0928\u093e \u092e\u0939\u0924\u094d\u0935\u092a\u0942\u0930\u094d\u0923 \u0939\u0948\u0964 \u0909\u0938\u0928\u0947 \u0905\u092a\u0928\u0947 \u0916\u0947\u0924 \u092e\u0947\u0902 \u092a\u094d\u0930\u092f\u094b\u0917 \u0915\u0930\u0928\u0947 \u0915\u093e \u0928\u093f\u0930\u094d\u0923\u092f \u0932\u093f\u092f\u093e\u0964\n",
            "\n",
            "\u0930\u093e\u092e\u0942 \u0928\u0947 \u092a\u0939\u0932\u0947 \u0905\u092a\u0928\u0940 \u092e\u093f\u091f\u094d\u091f\u0940 \u0915\u0940 \u091c\u093e\u0902\u091a \u0915\u0930\u0935\u093e\u0908 \u0914\u0930 \u0909\u0938\u0915\u0947 \u0905\u0928\u0941\u0938\u093e\u0930 \u0916\u093e\u0926 \u0914\u0930 \u092c\u0940\u091c \u0915\u093e \u091a\u092f\u0928 \u0915\u093f\u092f\u093e\u0964 \u0909\u0938\u0928\u0947 \u092b\u0938\u0932 \u091a\u0915\u094d\u0930 \u0905\u092a\u0928\u093e\u092f\u093e \u0914\u0930 \u0935\u093f\u092d\u093f\u0928\u094d\u0928 \u092a\u094d\u0930\u0915\u093e\u0930 \u0915\u0940 \u092b\u0938\u0932\u0947\u0902 \u0909\u0917\u093e\u0928\u0947 \u0915\u093e \u092a\u094d\u0930\u092f\u093e\u0938 \u0915\u093f\u092f\u093e\u0964 \u0927\u0940\u0930\u0947-\u0927\u0940\u0930\u0947, \u0909\u0938\u0915\u0940 \u092e\u0947\u0939\u0928\u0924 \u0930\u0902\u0917 \u0932\u093e\u0908\u0964 \u0909\u0938\u0915\u0940 \u092b\u0938\u0932\u0947\u0902 \u0905\u092c \u0939\u0930 \u0938\u093e\u0932 \u0905\u091a\u094d\u091b\u0940 \u0939\u094b\u0928\u0947 \u0932\u0917\u0940\u0902\u0964\n",
            "\n",
            "\u0917\u093e\u0901\u0935 \u0915\u0947 \u0932\u094b\u0917 \u0905\u092c \u0930\u093e\u092e\u0942 \u0915\u0940 \u0924\u093e\u0930\u0940\u092b \u0915\u0930\u0928\u0947 \u0932\u0917\u0947\u0964 \u0909\u0928\u094d\u0939\u094b\u0902\u0928\u0947 \u0926\u0947\u0916\u093e \u0915\u093f \u0915\u0948\u0938\u0947 \u0930\u093e\u092e\u0942 \u0928\u0947 \u0905\u092a\u0928\u0940 \u092e\u0947\u0939\u0928\u0924 \u0914\u0930 \u091c\u094d\u091e\u093e\u0928 \u0938\u0947 \u0905\u092a\u0928\u0940 \u0938\u094d\u0925\u093f\u0924\u093f \u0915\u094b \u092c\u0926\u0932 \u0926\u093f\u092f\u093e\u0964 \u0930\u093e\u092e\u0942 \u0928\u0947 \u0928 \u0915\u0947\u0935\u0932 \u0905\u092a\u0928\u0940 \u092b\u0938\u0932\u0947\u0902 \u092c\u0922\u093c\u093e\u0908\u0902, \u092c\u0932\u094d\u0915\u093f \u0917\u093e\u0901\u0935 \u0915\u0947 \u0905\u0928\u094d\u092f \u0915\u093f\u0938\u093e\u0928\u094b\u0902 \u0915\u094b \u092d\u0940 \u0905\u092a\u0928\u0947 \u0905\u0928\u0941\u092d\u0935 \u0938\u093e\u091d\u093e \u0915\u093f\u090f\u0964 \n",
            "\n",
            "\u0907\u0938 \u0924\u0930\u0939, \u0930\u093e\u092e\u0942 \u0928\u0947 \u0928 \u0915\u0947\u0935\u0932 \u0905\u092a\u0928\u0940 \u091c\u093f\u0902\u0926\u0917\u0940 \u092c\u0926\u0932\u0940, \u092c\u0932\u094d\u0915\u093f \u092a\u0942\u0930\u0947 \u0917\u093e\u0901\u0935 \u0915\u094b \u090f\u0915 \u0928\u0908 \u0926\u093f\u0936\u093e \u0926\u093f\u0916\u093e\u0908\u0964 \u0909\u0938\u0915\u0940 \u0915\u0939\u093e\u0928\u0940 \u092f\u0939 \u0938\u093f\u0916\u093e\u0924\u0940 \u0939\u0948 \u0915\u093f \u092e\u0947\u0939\u0928\u0924 \u0914\u0930 \u091c\u094d\u091e\u093e\u0928 \u0915\u093e \u0938\u0939\u0940 \u0909\u092a\u092f\u094b\u0917 \u0915\u0930\u0915\u0947 \u0939\u092e \u0915\u093f\u0938\u0940 \u092d\u0940 \u0915\u0920\u093f\u0928\u093e\u0908 \u0915\u094b \u092a\u093e\u0930 \u0915\u0930 \u0938\u0915\u0924\u0947 \u0939\u0948\u0902\u0964\n",
            "\n",
            "\n",
            "Prompt: Bitte erz\u00e4hle mir eine Geschichte auf Deutsch.\n",
            "Response: Es war einmal in einem kleinen Dorf am Fu\u00dfe eines majest\u00e4tischen Berges, wo die Menschen in Harmonie mit der Natur lebten. In diesem Dorf lebte ein junger Mann namens Lukas, der von Abenteuern tr\u00e4umte und die Welt au\u00dferhalb seines Heimatdorfes erkunden wollte.\n",
            "\n",
            "Eines Tages h\u00f6rte Lukas von einem geheimnisvollen Wald, der tief im Gebirge verborgen lag. Man sagte, dass dieser Wald voller magischer Kreaturen und unerforschter Geheimnisse sei. Entschlossen, das Abenteuer seines Lebens zu erleben, packte er einige Vorr\u00e4te und machte sich auf den Weg.\n",
            "\n",
            "Nach mehreren Tagen des Wanderns erreichte Lukas den Rand des geheimnisvollen Waldes. Die B\u00e4ume waren hoch und dicht, und ein sanfter Nebel schwebte \u00fcber dem Boden. Als er tiefer in den Wald eindrang, bemerkte er, dass die Luft anders roch \u2013 s\u00fc\u00dflich und frisch. Pl\u00f6tzlich h\u00f6rte er ein leises Fl\u00fcstern, das ihn an einen kleinen klaren Teich f\u00fchrte.\n",
            "\n",
            "Am Ufer des Teiches sa\u00df eine wundersch\u00f6ne Elfe mit schimmernden Fl\u00fcgeln. Sie stellte sich als Lira vor und erkl\u00e4rte, dass sie die H\u00fcterin des Waldes sei. Lira erz\u00e4hlte Lukas von den vielen Wundern des Waldes, aber auch von den Gefahren, die ihn bedrohten. Ein dunkler Schatten hatte sich \u00fcber den Wald gelegt, und nur ein mutiger Mensch konnte helfen, das Gleichgewicht wiederherzustellen.\n",
            "\n",
            "Lukas, voller Entschlossenheit, bot seine Hilfe an. Gemeinsam mit Lira begab er sich auf eine Reise durch den Wald, um die Quelle des \u00dcbels zu finden. Sie begegneten fantastischen Kreaturen, l\u00f6sten R\u00e4tsel und \u00fcberwanden zahlreiche Hindernisse. Schlie\u00dflich entdeckten sie, dass ein alter Zauberer, der einst aus dem Wald verbannt worden war, zur\u00fcckgekehrt war, um Rache zu nehmen.\n",
            "\n",
            "Mit Mut und List gelang es Lukas und Lira, den Zauberer zu besiegen und den Wald zu befreien. Die Farben des Waldes wurden lebendiger, und die magischen Kreaturen feierten ihre R\u00fcckkehr zur Freiheit. Als Dank f\u00fcr seinen Mut erhielt Lukas von Lira ein kleines Amulett, das ihm Gl\u00fcck bringen sollte.\n",
            "\n",
            "Nach seinem Abenteuer kehrte Lukas in sein Dorf zur\u00fcck, bereichert durch die Erfahrungen und Freundschaften, die er im geheimnisvollen Wald gemacht hatte. Von diesem Tag an erz\u00e4hlte er den Dorfbewohnern von seinen Erlebnissen und inspirierte sie, ihre eigenen Tr\u00e4ume zu verfolgen und die Wunder der Welt zu entdecken. Und so lebte er gl\u00fccklich und zufrieden, immer bereit f\u00fcr das n\u00e4chste Abenteuer.\n",
            "\n"
          ]
        }
      ],
      "source": [
        "from llama_index.llms.openai_like import OpenAILike\n",
        "\n",
        "# Initialize Sutra LLM with necessary parameters\n",
        "llm = OpenAILike(\n",
        "    model=\"sutra-v2\",                    # Sutra model name\n",
        "    api_base=\"https://api.two.ai/v2\",    # Sutra API base URL\n",
        "    api_key=os.getenv(\"SUTRA_API_KEY\"),  # Sutra API key\n",
        "    is_chat_model=True,                  # Mandatory: Set to True for chat-based models\n",
        ")\n",
        "\n",
        "# Multilingual prompts\n",
        "prompts = [\n",
        "    \"\u0c24\u0c46\u0c32\u0c41\u0c17\u0c41\u0c32\u0c4b \u0c12\u0c15 \u0c15\u0c25 \u0c1a\u0c46\u0c2a\u0c4d\u0c2a\u0c41?\",                         # Telugu\n",
        "    \"Une histoire en fran\u00e7ais, s'il vous pla\u00eet.\",     # French\n",
        "    \"Por favor, cu\u00e9ntame una historia en espa\u00f1ol.\",   # Spanish\n",
        "    \"\u0915\u0943\u092a\u092f\u093e \u0939\u093f\u0902\u0926\u0940 \u092e\u0947\u0902 \u090f\u0915 \u0915\u0939\u093e\u0928\u0940 \u0938\u0941\u0928\u093e\u0907\u090f\u0964\",                    # Hindi\n",
        "    \"Bitte erz\u00e4hle mir eine Geschichte auf Deutsch.\"  # German\n",
        "]\n",
        "\n",
        "# Loop through each prompt and print the response\n",
        "for prompt in prompts:\n",
        "    response = llm.complete(prompt)\n",
        "    print(f\"\\nPrompt: {prompt}\")\n",
        "    print(f\"Response: {str(response)}\\n\")"
      ]
    },
    {
      "cell_type": "markdown",
      "metadata": {
        "id": "DXzhTgxIbJwI"
      },
      "source": [
        "###Building a Simple Chatbot with LlamaIndex \ud83e\udd99"
      ]
    },
    {
      "cell_type": "code",
      "execution_count": null,
      "metadata": {
        "colab": {
          "base_uri": "https://localhost:8080/"
        },
        "id": "bmMDK4rRSqI7",
        "outputId": "8f653dd4-5042-421d-f3c5-df00db026820"
      },
      "outputs": [
        {
          "name": "stdout",
          "output_type": "stream",
          "text": [
            "Chatbot: Hello! Type 'exit' to end the conversation.\n",
            "\n",
            "You: hi\n",
            "Chatbot: Hello! How can I assist you today?\n",
            "You: exit\n",
            "Chatbot: Goodbye! \ud83d\udc4b\n"
          ]
        }
      ],
      "source": [
        "import os\n",
        "from llama_index.llms.openai_like import OpenAILike\n",
        "from llama_index.core.llms import ChatMessage\n",
        "\n",
        "\n",
        "# Initialize the Sutra model via LlamaIndex\n",
        "llm = OpenAILike(\n",
        "    model=\"sutra-v2\",                    # Sutra model name\n",
        "    api_base=\"https://api.two.ai/v2\",    # Sutra API base URL\n",
        "    api_key=os.getenv(\"SUTRA_API_KEY\"),  # Sutra API key\n",
        "    is_chat_model=True,                  # Mandatory for chat-based models\n",
        ")\n",
        "\n",
        "# Start the chatbot conversation loop\n",
        "print(\"Chatbot: Hello! Type 'exit' to end the conversation.\\n\")\n",
        "\n",
        "chat_history = []\n",
        "\n",
        "while True:\n",
        "    user_input = input(\"You: \")  # Get user input\n",
        "\n",
        "    if user_input.lower() == \"exit\":\n",
        "        print(\"Chatbot: Goodbye! \ud83d\udc4b\")\n",
        "        break\n",
        "\n",
        "    # Add user message to chat history\n",
        "    chat_history.append(ChatMessage(role=\"user\", content=user_input))\n",
        "\n",
        "    # Get response from Sutra via LlamaIndex\n",
        "    response = llm.chat(chat_history)\n",
        "\n",
        "    # Print response content\n",
        "    print(\"Chatbot:\", response.message.content)\n",
        "\n",
        "    # Add AI response to chat history\n",
        "    chat_history.append(response.message)"
      ]
    },
    {
      "cell_type": "markdown",
      "metadata": {
        "id": "xnyFjI4ibQ13"
      },
      "source": [
        "###LlamaIndex \ud83e\udd99 with the Sutra model for Document Querying"
      ]
    },
    {
      "cell_type": "code",
      "execution_count": null,
      "metadata": {
        "colab": {
          "base_uri": "https://localhost:8080/"
        },
        "id": "Ry5PamjDTj0S",
        "outputId": "700007ff-8a0f-4687-a876-9ce9097de8fd"
      },
      "outputs": [
        {
          "name": "stdout",
          "output_type": "stream",
          "text": [
            "\u0909\u0924\u094d\u0924\u0930: SUTRA 50+ \u0938\u0947 \u0905\u0927\u093f\u0915 \u092d\u093e\u0937\u093e\u0913\u0902 \u0915\u093e \u0938\u092e\u0930\u094d\u0925\u0928 \u0915\u0930\u0924\u093e \u0939\u0948\u0964\n"
          ]
        }
      ],
      "source": [
        "import os\n",
        "import faiss\n",
        "from llama_index.core import Document, StorageContext, VectorStoreIndex\n",
        "from llama_index.vector_stores.faiss import FaissVectorStore\n",
        "from llama_index.embeddings.openai import OpenAIEmbedding\n",
        "from llama_index.llms.openai_like import OpenAILike\n",
        "from llama_index.core.query_engine import RetrieverQueryEngine\n",
        "\n",
        "# Set up FAISS index manually\n",
        "dimension = 3072  # For \"text-embedding-3-large\" from OpenAI\n",
        "faiss_index = faiss.IndexFlatL2(dimension)\n",
        "\n",
        "# 1. Hindi text\n",
        "text = \"\"\"\n",
        "SUTRA \u0926\u094b \u092a\u094d\u0932\u0947\u091f\u092b\u093c\u0949\u0930\u094d\u092e\u094d\u0938 \u0926\u094d\u0935\u093e\u0930\u093e \u0935\u093f\u0915\u0938\u093f\u0924 \u090f\u0915 \u092c\u0939\u0941\u092d\u093e\u0937\u0940 \u092c\u0921\u093c\u0947 \u092d\u093e\u0937\u093e \u092e\u0949\u0921\u0932 (LMLM) \u092a\u0930\u093f\u0935\u093e\u0930 \u0939\u0948\u0964\n",
        "SUTRA \u0915\u0940 \u0921\u0941\u0905\u0932-\u091f\u094d\u0930\u093e\u0902\u0938\u092b\u0949\u0930\u094d\u092e\u0930 \u092a\u0926\u094d\u0927\u0924\u093f MoE \u0914\u0930 Dense AI \u092e\u0949\u0921\u0932 \u0906\u0930\u094d\u0915\u093f\u091f\u0947\u0915\u094d\u091a\u0930 \u0926\u094b\u0928\u094b\u0902 \u0915\u0940 \u0936\u0915\u094d\u0924\u093f \u0915\u094b \u092c\u0922\u093c\u093e\u0924\u0940 \u0939\u0948,\n",
        "\u091c\u094b 50+ \u0938\u0947 \u0905\u0927\u093f\u0915 \u092d\u093e\u0937\u093e\u0913\u0902 \u0915\u0947 \u0932\u093f\u090f \u0932\u093e\u0917\u0924-\u0915\u0941\u0936\u0932 \u092c\u0939\u0941\u092d\u093e\u0937\u0940 \u0915\u094d\u0937\u092e\u0924\u093e\u090f\u0902 \u092a\u094d\u0930\u0926\u093e\u0928 \u0915\u0930\u0924\u0940 \u0939\u0948\u0964 \u092f\u0939 \u0938\u0902\u0935\u093e\u0926, \u0916\u094b\u091c,\n",
        "\u0914\u0930 \u0909\u0928\u094d\u0928\u0924 \u0924\u0930\u094d\u0915 \u0915\u0947 \u0932\u093f\u090f \u0938\u094d\u0915\u0947\u0932\u0947\u092c\u0932 \u090f\u0906\u0908 \u090f\u092a\u094d\u0932\u093f\u0915\u0947\u0936\u0928 \u0915\u094b \u0938\u0915\u094d\u0937\u092e \u092c\u0928\u093e\u0924\u093e \u0939\u0948, \u091c\u094b \u0935\u093f\u092d\u093f\u0928\u094d\u0928 \u092d\u093e\u0937\u093e\u0913\u0902, \u0921\u094b\u092e\u0947\u0928 \u0914\u0930 \u0909\u092a\u092f\u094b\u0917\u094b\u0902 \u092e\u0947\u0902 \u0909\u091a\u094d\u091a \u092a\u094d\u0930\u0926\u0930\u094d\u0936\u0928 \u0938\u0941\u0928\u093f\u0936\u094d\u091a\u093f\u0924 \u0915\u0930\u0924\u093e \u0939\u0948\u0964\n",
        "\"\"\"\n",
        "documents = [Document(text=text)]\n",
        "\n",
        "# 2. Embedding model\n",
        "embedding_model = OpenAIEmbedding(\n",
        "    model=\"text-embedding-3-large\",\n",
        "    api_key=os.getenv(\"OPENAI_API_KEY\")\n",
        ")\n",
        "\n",
        "# 3. FAISS vector store and storage context\n",
        "vector_store = FaissVectorStore(faiss_index=faiss_index)\n",
        "storage_context = StorageContext.from_defaults(vector_store=vector_store)\n",
        "\n",
        "# 4. Create the vector index with the given storage context\n",
        "index = VectorStoreIndex.from_documents(\n",
        "    documents,\n",
        "    embed_model=embedding_model,\n",
        "    storage_context=storage_context,\n",
        ")\n",
        "\n",
        "# 5. Set up Sutra LLM\n",
        "sutra_llm = OpenAILike(\n",
        "    model=\"sutra-v2\",\n",
        "    api_base=\"https://api.two.ai/v2\",\n",
        "    api_key=os.getenv(\"SUTRA_API_KEY\"),\n",
        "    is_chat_model=True,\n",
        ")\n",
        "\n",
        "# 6. Query the index using the Sutra LLM\n",
        "query_engine = index.as_query_engine(llm=sutra_llm)\n",
        "response = query_engine.query(\"SUTRA \u0915\u093f\u0924\u0928\u0940 \u092d\u093e\u0937\u093e\u0913\u0902 \u0915\u093e \u0938\u092e\u0930\u094d\u0925\u0928 \u0915\u0930\u0924\u093e \u0939\u0948?\")\n",
        "\n",
        "# 7. Show the result\n",
        "print(\"\u0909\u0924\u094d\u0924\u0930:\", response.response)\n"
      ]
    },
    {
      "cell_type": "markdown",
      "metadata": {
        "id": "iofZR6jY6yYx"
      },
      "source": [
        "###Multilingual Chat with Sutra LLM"
      ]
    },
    {
      "cell_type": "code",
      "execution_count": null,
      "metadata": {
        "colab": {
          "base_uri": "https://localhost:8080/",
          "height": 83,
          "referenced_widgets": [
            "7d79dd7001b14e8783c8086814678257",
            "894662451ef34162b19574cfd3414d13",
            "f906f1e71e7f41f0bc432ac15a0ace33",
            "5098bbe269e14d6eaeb8f99d59896468",
            "b3ffd4aa83464566aaa1e98fe955b019",
            "a2e7457ded384d6c8f46a885177d6592",
            "8a25218a0ab74b8a83fb3b33080d23f5",
            "18b219bd67b7440c97a047dfa8ce4cff",
            "61da7080eb5e462783ebebfe8d322655",
            "075b193a7c084a439d9805313ab0463b",
            "07464a08eee24aac858fd33cb462f1be",
            "4f54acfa998b49bcba7fb16b02057d2f",
            "e2d826261cc945c5861d295f9475266e",
            "365d24c1b443410e952e98c0098cec44"
          ]
        },
        "id": "72uDJ_GN5lYo",
        "outputId": "43288fc9-259b-479b-f388-1edaed80d1d1"
      },
      "outputs": [
        {
          "data": {
            "application/vnd.jupyter.widget-view+json": {
              "model_id": "7d79dd7001b14e8783c8086814678257",
              "version_major": 2,
              "version_minor": 0
            },
            "text/plain": [
              "Dropdown(description='Select Language:', layout=Layout(height='30px', width='75%'), options=('English', 'Hindi\u2026"
            ]
          },
          "metadata": {},
          "output_type": "display_data"
        },
        {
          "data": {
            "application/vnd.jupyter.widget-view+json": {
              "model_id": "5098bbe269e14d6eaeb8f99d59896468",
              "version_major": 2,
              "version_minor": 0
            },
            "text/plain": [
              "Textarea(value='', description='Chat History:', disabled=True, layout=Layout(height='400px', width='80%'), pla\u2026"
            ]
          },
          "metadata": {},
          "output_type": "display_data"
        },
        {
          "data": {
            "application/vnd.jupyter.widget-view+json": {
              "model_id": "8a25218a0ab74b8a83fb3b33080d23f5",
              "version_major": 2,
              "version_minor": 0
            },
            "text/plain": [
              "Text(value='', description='You:', layout=Layout(width='70%'), placeholder='Type your message...', style=TextS\u2026"
            ]
          },
          "metadata": {},
          "output_type": "display_data"
        },
        {
          "data": {
            "application/vnd.jupyter.widget-view+json": {
              "model_id": "075b193a7c084a439d9805313ab0463b",
              "version_major": 2,
              "version_minor": 0
            },
            "text/plain": [
              "Button(button_style='info', description='Send', layout=Layout(width='20%'), style=ButtonStyle())"
            ]
          },
          "metadata": {},
          "output_type": "display_data"
        },
        {
          "data": {
            "application/vnd.jupyter.widget-view+json": {
              "model_id": "e2d826261cc945c5861d295f9475266e",
              "version_major": 2,
              "version_minor": 0
            },
            "text/plain": [
              "Output()"
            ]
          },
          "metadata": {},
          "output_type": "display_data"
        }
      ],
      "source": [
        "# Step 1: Import dependencies\n",
        "import ipywidgets as widgets\n",
        "from IPython.display import display\n",
        "from llama_index.llms.openai_like import OpenAILike\n",
        "from llama_index.core.chat_engine import SimpleChatEngine\n",
        "\n",
        "# Step 2: Set up Sutra LLM\n",
        "sutra_llm = OpenAILike(\n",
        "    api_base=\"https://api.two.ai/v2\",\n",
        "    api_key=os.getenv(\"SUTRA_API_KEY\"),\n",
        "    model=\"sutra-v2\",\n",
        "    is_chat_model=True,\n",
        ")\n",
        "\n",
        "chat_engine = SimpleChatEngine.from_defaults(llm=sutra_llm)\n",
        "\n",
        "# Step 3: Language options\n",
        "languages = [\n",
        "    \"English\", \"Hindi\", \"Gujarati\", \"Bengali\", \"Tamil\", \"Telugu\", \"Kannada\", \"Malayalam\",\n",
        "    \"Punjabi\", \"Marathi\", \"Urdu\", \"Assamese\", \"Odia\", \"Sanskrit\", \"Korean\", \"Japanese\",\n",
        "    \"Arabic\", \"French\", \"German\", \"Spanish\", \"Portuguese\", \"Russian\", \"Chinese\", \"Vietnamese\",\n",
        "    \"Thai\", \"Indonesian\", \"Turkish\", \"Polish\", \"Ukrainian\", \"Dutch\", \"Italian\", \"Greek\",\n",
        "    \"Hebrew\", \"Persian\"\n",
        "]\n",
        "\n",
        "# Step 4: Create widgets with style\n",
        "lang_dropdown = widgets.Dropdown(\n",
        "    options=languages,\n",
        "    value=\"English\",\n",
        "    description='Select Language:',\n",
        "    style={'description_width': 'initial'},\n",
        "    layout=widgets.Layout(width='75%', height='30px')\n",
        ")\n",
        "\n",
        "chat_log = widgets.Textarea(\n",
        "    value=\"\",\n",
        "    placeholder='Chat history will appear here...',\n",
        "    description='Chat History:',\n",
        "    disabled=True,\n",
        "    layout=widgets.Layout(width='80%', height='400px'),\n",
        "    style={'description_width': 'initial'}\n",
        ")\n",
        "\n",
        "user_input = widgets.Text(\n",
        "    value='',\n",
        "    placeholder='Type your message...',\n",
        "    description='You:',\n",
        "    layout=widgets.Layout(width='70%'),\n",
        "    style={'description_width': 'initial'}\n",
        ")\n",
        "\n",
        "send_button = widgets.Button(\n",
        "    description=\"Send\",\n",
        "    button_style='info',\n",
        "    layout=widgets.Layout(width='20%')\n",
        ")\n",
        "\n",
        "output = widgets.Output()\n",
        "\n",
        "# Step 5: Initialize message storage\n",
        "messages = []\n",
        "\n",
        "# Step 6: Send message handler\n",
        "def on_send_click(b):\n",
        "    user_text = user_input.value.strip()\n",
        "    if not user_text:\n",
        "        return\n",
        "    language = lang_dropdown.value\n",
        "\n",
        "    # Add user message to the history\n",
        "    messages.append(f\"User: {user_text}\")\n",
        "    chat_log.value = '\\n'.join(messages)\n",
        "\n",
        "    # Create prompt for Sutra LLM\n",
        "    full_prompt = f\"Please respond only in {language}. User: {user_text}\\nAssistant:\"\n",
        "\n",
        "    # Get response from Sutra LLM\n",
        "    response = chat_engine.chat(full_prompt)\n",
        "    assistant_reply = response.response.strip()\n",
        "\n",
        "    # Add assistant response to chat history\n",
        "    messages.append(f\"Assistant ({language}): {assistant_reply}\")\n",
        "    chat_log.value = '\\n'.join(messages)\n",
        "\n",
        "    # Clear user input field\n",
        "    user_input.value = \"\"\n",
        "\n",
        "# Step 7: Bind button click event\n",
        "send_button.on_click(on_send_click)\n",
        "\n",
        "# Step 8: Display all widgets\n",
        "display(lang_dropdown, chat_log, user_input, send_button, output)"
      ]
    }
  ],
  "metadata": {
    "colab": {
      "provenance": []
    },
    "kernelspec": {
      "display_name": "Python 3",
      "name": "python3"
    },
    "language_info": {
      "name": "python"
    }
  },
  "nbformat": 4,
  "nbformat_minor": 0
}