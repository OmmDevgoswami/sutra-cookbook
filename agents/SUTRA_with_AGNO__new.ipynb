{
  "cells": [
    {
      "cell_type": "markdown",
      "metadata": {
        "id": "FU1Tf9H2K0Gp"
      },
      "source": [
        "<div style=\"display: flex; align-items: center; gap: 40px;\">\n",
        "\n",
        "<img src=\"https://play-lh.googleusercontent.com/_O9p4Z4yucA2NLmZBu9mTJCuBwXeT9NcbtrDN6I8gKlkIPRySV0adOmbyipjSj9Gew\" width=\"120\">\n",
        "<img src=\"https://images.crunchbase.com/image/upload/c_pad,f_auto,q_auto:eco,dpr_1/fc52752016ff487da8e4686a2b7fcb6d\" width=\"120\">\n",
        "\n",
        "<div>\n",
        "  <h2>SUTRA by TWO Platforms</h2>\n",
        "  <p>SUTRA is a family of large multi-lingual language (LMLMs) models pioneered by Two Platforms. SUTRA\u2019s dual-transformer approach extends the power of both MoE and Dense AI language model architectures, delivering cost-efficient multilingual capabilities for over 50+ languages. It powers scalable AI applications for conversation, search, and advanced reasoning, ensuring high-performance across diverse languages, domains and applications.</p>\n",
        "\n",
        "  <h2>Agno</h2>\n",
        "  <p>Agno is a developer-friendly framework to build intelligent agents with memory, tools, and reasoning. It simplifies creating multimodal, agentic workflows with built-in FastAPI routes, chat UI, and performance monitoring.</p>\n",
        "</div>\n",
        "</div>\n"
      ]
    },
    {
      "cell_type": "markdown",
      "metadata": {},
      "source": [
        "## Get Your API Keys\n",
        "\n",
        "Before you begin, make sure you have:\n",
        "\n",
        "1. A SUTRA API key (Get yours at [TWO AI's SUTRA API page](https://www.two.ai/sutra/api))\n",
        "2. Basic familiarity with Python and Jupyter notebooks\n",
        "\n",
        "This notebook is designed to run in Google Colab, so no local Python installation is required."
      ]
    },
    {
      "cell_type": "markdown",
      "metadata": {
        "id": "dX4IemuILxgV"
      },
      "source": [
        "## Sutra using Agno"
      ]
    },
    {
      "cell_type": "markdown",
      "metadata": {
        "id": "Q4LsNbD2L5Lb"
      },
      "source": [
        "###Install Requirements"
      ]
    },
    {
      "cell_type": "code",
      "execution_count": null,
      "metadata": {
        "id": "Bq5GWrUNKpCV"
      },
      "outputs": [],
      "source": [
        "!pip install -qU openai agno tavily-python pypdf lancedb"
      ]
    },
    {
      "cell_type": "markdown",
      "metadata": {
        "id": "dboBkjnjXgMv"
      },
      "source": [
        "####Setup API Keys"
      ]
    },
    {
      "cell_type": "code",
      "execution_count": null,
      "metadata": {
        "id": "GvuwrgBSMS0n"
      },
      "outputs": [],
      "source": [
        "import os\n",
        "from google.colab import userdata\n",
        "\n",
        "# Set the API key from Colab secrets\n",
        "os.environ[\"SUTRA_API_KEY\"] = userdata.get(\"SUTRA_API_KEY\")\n",
        "os.environ[\"TAVILY_API_KEY\"] = userdata.get(\"TAVILY_API_KEY\")\n",
        "os.environ[\"OPENAI_API_KEY\"] = userdata.get(\"OPENAI_API_KEY\")"
      ]
    },
    {
      "cell_type": "markdown",
      "metadata": {
        "id": "di-zBrjWX4Dr"
      },
      "source": [
        "##Initialize Agent with Sutra Model:"
      ]
    },
    {
      "cell_type": "code",
      "execution_count": null,
      "metadata": {
        "id": "FOKMPuEyM9i8"
      },
      "outputs": [],
      "source": [
        "import os\n",
        "from agno.agent import Agent\n",
        "from agno.models.openai.like import OpenAILike\n",
        "\n",
        "# Initialize the Agent with Sutra model via OpenAILike wrapper\n",
        "agent = Agent(\n",
        "    model=OpenAILike(\n",
        "        id=\"sutra-v2\",\n",
        "        api_key=os.getenv(\"SUTRA_API_KEY\"),\n",
        "        base_url=\"https://api.two.ai/v2\"\n",
        "    ),\n",
        "    markdown=True\n",
        ")"
      ]
    },
    {
      "cell_type": "markdown",
      "metadata": {
        "id": "evonLdClYKI3"
      },
      "source": [
        "###Send Message to Agent and Get Response:"
      ]
    },
    {
      "cell_type": "code",
      "execution_count": null,
      "metadata": {
        "colab": {
          "base_uri": "https://localhost:8080/"
        },
        "id": "YJOnW3hXYNDg",
        "outputId": "c1987ff3-3b28-449f-84fb-6da74a0d787b"
      },
      "outputs": [
        {
          "name": "stdout",
          "output_type": "stream",
          "text": [
            "I am SUTRA, an advanced multilingual AI model designed to assist with a variety of inquiries and tasks. How can I help you today?\n"
          ]
        }
      ],
      "source": [
        "# Send the message to the agent and get the response\n",
        "response = agent.run(\"Who are you?\")\n",
        "\n",
        "# Print the response\n",
        "print(response.content)"
      ]
    },
    {
      "cell_type": "markdown",
      "metadata": {
        "id": "zXOs3AFzYfx3"
      },
      "source": [
        "#### Define Multilingual Prompts:"
      ]
    },
    {
      "cell_type": "code",
      "execution_count": null,
      "metadata": {
        "id": "a9e0Y_AkNyia"
      },
      "outputs": [],
      "source": [
        "from agno.agent import Agent\n",
        "from agno.models.openai.like import OpenAILike\n",
        "\n",
        "agent = Agent(\n",
        "    model=OpenAILike(\n",
        "        id=\"sutra-v2\",\n",
        "        api_key=os.getenv(\"SUTRA_API_KEY\"),\n",
        "        base_url=\"https://api.two.ai/v2\"\n",
        "    ),\n",
        "    markdown=True\n",
        ")\n",
        "\n",
        "prompts = [\n",
        "    \"\u0c24\u0c46\u0c32\u0c41\u0c17\u0c41\u0c32\u0c4b \u0c12\u0c15 \u0c15\u0c25 \u0c1a\u0c46\u0c2a\u0c4d\u0c2a\u0c41?\",                          # Telugu\n",
        "    \"Une histoire en fran\u00e7ais, s'il vous pla\u00eet.\",      # French\n",
        "    \"Por favor, cu\u00e9ntame una historia en espa\u00f1ol.\",    # Spanish\n",
        "    \"\u0915\u0943\u092a\u092f\u093e \u0939\u093f\u0902\u0926\u0940 \u092e\u0947\u0902 \u090f\u0915 \u0915\u0939\u093e\u0928\u0940 \u0938\u0941\u0928\u093e\u0907\u090f\u0964\",                     # Hindi\n",
        "    \"Bitte erz\u00e4hle mir eine Geschichte auf Deutsch.\"   # German\n",
        "]"
      ]
    },
    {
      "cell_type": "markdown",
      "metadata": {
        "id": "gqW_OyyeYr6F"
      },
      "source": [
        "####Process Prompts and Print Responses:"
      ]
    },
    {
      "cell_type": "code",
      "execution_count": null,
      "metadata": {
        "colab": {
          "base_uri": "https://localhost:8080/"
        },
        "id": "ZrekcqgbYxn_",
        "outputId": "ec0de442-9157-4d70-c0a8-0db3602bad1a"
      },
      "outputs": [
        {
          "name": "stdout",
          "output_type": "stream",
          "text": [
            "\n",
            "\ud83d\udcdd Prompt: \u0c24\u0c46\u0c32\u0c41\u0c17\u0c41\u0c32\u0c4b \u0c12\u0c15 \u0c15\u0c25 \u0c1a\u0c46\u0c2a\u0c4d\u0c2a\u0c41?\n",
            "\ud83d\udcd8 Response: ### \u0c15\u0c25: \u0c2a\u0c3f\u0c1f\u0c4d\u0c1f\u0c32 \u0c2a\u0c02\u0c21\u0c41\u0c17\n",
            "\n",
            "\u0c12\u0c15 \u0c17\u0c4d\u0c30\u0c3e\u0c2e\u0c02\u0c32\u0c4b \u0c1a\u0c3f\u0c28\u0c4d\u0c28 \u0c2a\u0c3f\u0c1f\u0c4d\u0c1f\u0c32\u0c41 \u0c28\u0c3f\u0c35\u0c38\u0c3f\u0c02\u0c1a\u0c47\u0c35\u0c3f. \u0c35\u0c3e\u0c1f\u0c3f \u0c2a\u0c47\u0c30\u0c41 \"\u0c1a\u0c3f\u0c1f\u0c4d\u0c1f\u0c3f\" \u0c2e\u0c30\u0c3f\u0c2f\u0c41 \"\u0c15\u0c3f\u0c1f\u0c4d\u0c1f\u0c3f\". \u0c08 \u0c2a\u0c3f\u0c1f\u0c4d\u0c1f\u0c32\u0c41 \u0c2a\u0c4d\u0c30\u0c24\u0c3f \u0c38\u0c02\u0c35\u0c24\u0c4d\u0c38\u0c30\u0c02 \u0c12\u0c15 \u0c2a\u0c4d\u0c30\u0c24\u0c4d\u0c2f\u0c47\u0c15 \u0c2a\u0c02\u0c21\u0c41\u0c17\u0c28\u0c41 \u0c1c\u0c30\u0c41\u0c2a\u0c41\u0c15\u0c41\u0c28\u0c47 \u0c35\u0c3e\u0c30\u0c41. \u0c06 \u0c2a\u0c02\u0c21\u0c41\u0c17 \u0c2a\u0c47\u0c30\u0c41 \"\u0c2a\u0c3f\u0c1f\u0c4d\u0c1f\u0c32 \u0c2a\u0c02\u0c21\u0c41\u0c17\".\n",
            "\n",
            "\u0c08 \u0c2a\u0c02\u0c21\u0c41\u0c17\u0c32\u0c4b, \u0c17\u0c4d\u0c30\u0c3e\u0c2e\u0c02\u0c32\u0c4b\u0c28\u0c3f \u0c05\u0c28\u0c4d\u0c28\u0c3f \u0c2a\u0c3f\u0c1f\u0c4d\u0c1f\u0c32\u0c41 \u0c15\u0c32\u0c41\u0c38\u0c4d\u0c24\u0c3e\u0c2f\u0c3f. \u0c1a\u0c3f\u0c1f\u0c4d\u0c1f\u0c3f \u0c2e\u0c30\u0c3f\u0c2f\u0c41 \u0c15\u0c3f\u0c1f\u0c4d\u0c1f\u0c3f \u0c08 \u0c2a\u0c02\u0c21\u0c41\u0c17\u0c28\u0c41 \u0c2e\u0c30\u0c3f\u0c02\u0c24 \u0c2a\u0c4d\u0c30\u0c24\u0c4d\u0c2f\u0c47\u0c15\u0c02\u0c17\u0c3e \u0c1a\u0c47\u0c2f\u0c21\u0c3e\u0c28\u0c3f\u0c15\u0c3f \u0c2a\u0c4d\u0c30\u0c24\u0c40 \u0c38\u0c02\u0c35\u0c24\u0c4d\u0c38\u0c30\u0c02 \u0c15\u0c4a\u0c24\u0c4d\u0c24 \u0c15\u0c4a\u0c24\u0c4d\u0c24 \u0c06\u0c32\u0c4b\u0c1a\u0c28\u0c32\u0c41 \u0c1a\u0c47\u0c38\u0c4d\u0c24\u0c41\u0c02\u0c1f\u0c3e\u0c2f\u0c3f.\n",
            "\n",
            "#### \u0c2a\u0c02\u0c21\u0c41\u0c17 \u0c30\u0c4b\u0c1c\u0c41:\n",
            "\u0c08\u0c38\u0c3e\u0c30\u0c3f, \u0c1a\u0c3f\u0c1f\u0c4d\u0c1f\u0c3f \u0c2e\u0c30\u0c3f\u0c2f\u0c41 \u0c15\u0c3f\u0c1f\u0c4d\u0c1f\u0c3f \u0c12\u0c15 \u0c2a\u0c4d\u0c30\u0c24\u0c4d\u0c2f\u0c47\u0c15 \u0c15\u0c3e\u0c30\u0c4d\u0c2f\u0c15\u0c4d\u0c30\u0c2e\u0c3e\u0c28\u0c4d\u0c28\u0c3f \u0c0f\u0c30\u0c4d\u0c2a\u0c3e\u0c1f\u0c41 \u0c1a\u0c47\u0c36\u0c3e\u0c30\u0c41. \u0c05\u0c35\u0c3f \u0c17\u0c4d\u0c30\u0c3e\u0c2e\u0c02\u0c32\u0c4b\u0c28\u0c3f \u0c2a\u0c46\u0c26\u0c4d\u0c26 \u0c1a\u0c46\u0c1f\u0c4d\u0c1f\u0c41 \u0c35\u0c26\u0c4d\u0c26 \u0c05\u0c02\u0c26\u0c30\u0c3f\u0c15\u0c40 \u0c38\u0c3e\u0c02\u0c17\u0c4d\u0c38\u0c4d \u0c2e\u0c30\u0c3f\u0c2f\u0c41 \u0c28\u0c3e\u0c1f\u0c3f\u0c15\u0c32\u0c41 \u0c1a\u0c47\u0c2f\u0c3e\u0c32\u0c28\u0c3f \u0c28\u0c3f\u0c30\u0c4d\u0c23\u0c2f\u0c3f\u0c02\u0c1a\u0c3e\u0c2f\u0c3f. \u0c05\u0c02\u0c26\u0c30\u0c42 \u0c06\u0c28\u0c02\u0c26\u0c02\u0c24\u0c4b \u0c2a\u0c3e\u0c32\u0c4d\u0c17\u0c4a\u0c28\u0c21\u0c02 \u0c2a\u0c4d\u0c30\u0c3e\u0c30\u0c02\u0c2d\u0c3f\u0c02\u0c1a\u0c3e\u0c30\u0c41.\n",
            "\n",
            "\u0c1a\u0c3f\u0c1f\u0c4d\u0c1f\u0c3f \u0c12\u0c15 \u0c05\u0c02\u0c26\u0c2e\u0c48\u0c28 \u0c2a\u0c3e\u0c1f \u0c2a\u0c3e\u0c21\u0c3f\u0c02\u0c26\u0c3f. \u0c05\u0c02\u0c26\u0c30\u0c3f \u0c39\u0c43\u0c26\u0c2f\u0c3e\u0c32\u0c28\u0c41 \u0c24\u0c3e\u0c15\u0c3f\u0c02\u0c26\u0c3f. \u0c15\u0c3f\u0c1f\u0c4d\u0c1f\u0c3f \u0c24\u0c28 \u0c28\u0c3e\u0c1f\u0c3f\u0c15\u0c24\u0c4b \u0c05\u0c02\u0c26\u0c30\u0c3f\u0c28\u0c3f \u0c28\u0c35\u0c4d\u0c35\u0c3f\u0c02\u0c1a\u0c3f\u0c02\u0c26\u0c3f. \u0c2a\u0c3f\u0c1f\u0c4d\u0c1f\u0c32 \u0c2a\u0c02\u0c21\u0c41\u0c17 \u0c30\u0c4b\u0c1c\u0c41\u0c28, \u0c17\u0c4d\u0c30\u0c3e\u0c2e\u0c02\u0c32\u0c4b\u0c28\u0c3f \u0c2a\u0c4d\u0c30\u0c24\u0c3f \u0c2a\u0c3f\u0c1f\u0c4d\u0c1f \u0c15\u0c42\u0c21\u0c3e \u0c24\u0c2e \u0c38\u0c4d\u0c28\u0c47\u0c39\u0c3f\u0c24\u0c41\u0c32\u0c24\u0c4b \u0c15\u0c32\u0c3f\u0c38\u0c3f \u0c06\u0c39\u0c3e\u0c30\u0c3e\u0c32\u0c41 \u0c2a\u0c02\u0c1a\u0c41\u0c15\u0c41\u0c02\u0c26\u0c3f.\n",
            "\n",
            "#### \u0c2a\u0c02\u0c21\u0c41\u0c17 \u0c2e\u0c41\u0c17\u0c3f\u0c02\u0c2a\u0c41:\n",
            "\u0c2a\u0c02\u0c21\u0c41\u0c17 \u0c2e\u0c41\u0c17\u0c3f\u0c38\u0c3f\u0c28\u0c2a\u0c4d\u0c2a\u0c41\u0c21\u0c41, \u0c1a\u0c3f\u0c1f\u0c4d\u0c1f\u0c3f \u0c2e\u0c30\u0c3f\u0c2f\u0c41 \u0c15\u0c3f\u0c1f\u0c4d\u0c1f\u0c3f \u0c05\u0c02\u0c26\u0c30\u0c3f\u0c15\u0c3f \u0c27\u0c28\u0c4d\u0c2f\u0c35\u0c3e\u0c26\u0c3e\u0c32\u0c41 \u0c1a\u0c46\u0c2a\u0c4d\u0c2a\u0c3e\u0c2f\u0c3f. \u0c05\u0c02\u0c26\u0c30\u0c42 \u0c12\u0c15\u0c1f\u0c3f\u0c17\u0c3e \u0c09\u0c02\u0c1f\u0c47, \u0c0e\u0c28\u0c4d\u0c28\u0c3f \u0c38\u0c02\u0c24\u0c4b\u0c37\u0c3e\u0c32\u0c41 \u0c35\u0c1a\u0c4d\u0c1a\u0c3e\u0c2f\u0c4b \u0c05\u0c30\u0c4d\u0c25\u0c02 \u0c15\u0c3e\u0c35\u0c3e\u0c32\u0c02\u0c1f\u0c47, \u0c07\u0c26\u0c3f \u0c2a\u0c3f\u0c1f\u0c4d\u0c1f\u0c32 \u0c2a\u0c02\u0c21\u0c41\u0c17 \u0c05\u0c28\u0c3f \u0c24\u0c46\u0c32\u0c3f\u0c2a\u0c3e\u0c30\u0c41.\n",
            "\n",
            "\u0c07\u0c32\u0c3e, \u0c1a\u0c3f\u0c1f\u0c4d\u0c1f\u0c3f \u0c2e\u0c30\u0c3f\u0c2f\u0c41 \u0c15\u0c3f\u0c1f\u0c4d\u0c1f\u0c3f \u0c35\u0c3e\u0c30\u0c3f \u0c17\u0c4d\u0c30\u0c3e\u0c2e\u0c02\u0c32\u0c4b \u0c38\u0c4d\u0c28\u0c47\u0c39\u0c02, \u0c2a\u0c4d\u0c30\u0c47\u0c2e \u0c2e\u0c30\u0c3f\u0c2f\u0c41 \u0c06\u0c28\u0c02\u0c26\u0c3e\u0c28\u0c4d\u0c28\u0c3f \u0c2a\u0c02\u0c1a\u0c41\u0c24\u0c42, \u0c2a\u0c4d\u0c30\u0c24\u0c3f \u0c38\u0c02\u0c35\u0c24\u0c4d\u0c38\u0c30\u0c02 \u0c2a\u0c3f\u0c1f\u0c4d\u0c1f\u0c32 \u0c2a\u0c02\u0c21\u0c41\u0c17\u0c28\u0c41 \u0c1c\u0c30\u0c41\u0c2a\u0c41\u0c15\u0c41\u0c02\u0c1f\u0c42 \u0c35\u0c1a\u0c4d\u0c1a\u0c3e\u0c2f\u0c3f.\n",
            "\n",
            "### \u0c2e\u0c41\u0c26\u0c4d\u0c30\u0c23:\n",
            "\u0c08 \u0c15\u0c25 \u0c26\u0c4d\u0c35\u0c3e\u0c30\u0c3e \u0c2e\u0c28\u0c02 \u0c24\u0c46\u0c32\u0c41\u0c38\u0c41\u0c15\u0c4b\u0c35\u0c3e\u0c32\u0c3f, \u0c38\u0c4d\u0c28\u0c47\u0c39\u0c02 \u0c2e\u0c30\u0c3f\u0c2f\u0c41 \u0c38\u0c39\u0c3e\u0c2f\u0c02 \u0c09\u0c28\u0c4d\u0c28 \u0c1a\u0c4b\u0c1f \u0c0e\u0c32\u0c3e\u0c02\u0c1f\u0c3f \u0c15\u0c37\u0c4d\u0c1f\u0c3e\u0c32\u0c41 \u0c35\u0c1a\u0c4d\u0c1a\u0c3f\u0c28\u0c2a\u0c4d\u0c2a\u0c1f\u0c3f\u0c15\u0c40, \u0c05\u0c02\u0c26\u0c30\u0c3f\u0c28\u0c40 \u0c15\u0c32\u0c3f\u0c2a\u0c3f \u0c2e\u0c41\u0c02\u0c26\u0c41\u0c15\u0c41 \u0c38\u0c3e\u0c17\u0c35\u0c1a\u0c4d\u0c1a\u0c41.\n",
            "\n",
            "\n",
            "\ud83d\udcdd Prompt: Une histoire en fran\u00e7ais, s'il vous pla\u00eet.\n",
            "\ud83d\udcd8 Response: ### La Petite \u00c9toile\n",
            "\n",
            "Il \u00e9tait une fois, dans un ciel \u00e9toil\u00e9, une petite \u00e9toile nomm\u00e9e \u00c9toilelette. Elle brillait de mille feux et r\u00eavait d\u2019\u00eatre plus qu\u2019une simple \u00e9toile dans la nuit. \u00c9toilelette avait entendu les histoires des \u00e9toiles filantes qui exau\u00e7aient des v\u0153ux, et elle voulait faire quelque chose de sp\u00e9cial pour les habitants de la Terre.\n",
            "\n",
            "Un soir, alors que le vent soufflait doucement, \u00c9toilelette d\u00e9cida de descendre sur Terre pour rencontrer les humains. Elle se transforma en une jolie luciole et se posa d\u00e9licatement sur le rebord d'une fen\u00eatre d'un petit village.\n",
            "\n",
            "\u00c0 l\u2019int\u00e9rieur de la maison, une petite fille nomm\u00e9e Clara \u00e9tait triste. Elle avait perdu son chat, Minou, et ne savait pas o\u00f9 le chercher. \u00c9toilelette, touch\u00e9e par la peine de Clara, d\u00e9cida d\u2019agir. Elle brilla intens\u00e9ment, attirant l\u2019attention de la fillette.\n",
            "\n",
            "\u00ab Qui es-tu ? \u00bb demanda Clara, \u00e9merveill\u00e9e par la lumi\u00e8re scintillante. \n",
            "\n",
            "\u00ab Je suis \u00c9toilelette, \u00bb r\u00e9pondit la luciole avec une voix douce. \u00ab Je peux t\u2019aider \u00e0 retrouver Minou. Suis-moi ! \u00bb\n",
            "\n",
            "Clara, pleine d\u2019espoir, suivit \u00c9toilelette \u00e0 travers le village. Ensemble, elles parcoururent les ruelles sombres et les jardins fleuris. Chaque fois qu\u2019\u00c9toilelette \u00e9clairait le chemin, Clara se sentait plus courageuse.\n",
            "\n",
            "Finalement, elles arriv\u00e8rent pr\u00e8s d\u2019un vieux ch\u00eane. \u00c9toilelette brilla encore plus fort, et soudain, un miaulement familier r\u00e9sonna dans l\u2019air. Minou \u00e9tait l\u00e0, blotti contre l\u2019arbre, endormi paisiblement. Clara courut vers lui, le prit dans ses bras et le serra tr\u00e8s fort.\n",
            "\n",
            "\u00ab Merci, \u00c9toilelette ! Tu es vraiment magique ! \u00bb s\u2019exclama Clara, les larmes aux yeux.\n",
            "\n",
            "\u00c9toilelette, heureuse d\u2019avoir aid\u00e9, lui sourit. \u00ab N\u2019oublie jamais que m\u00eame les petites \u00e9toiles peuvent faire de grandes choses. \u00bb\n",
            "\n",
            "Avec cela, \u00c9toilelette s\u2019envola vers le ciel, reprenant sa forme d\u2019\u00e9toile. Elle continua de briller chaque nuit, sachant qu\u2019elle avait fait une diff\u00e9rence dans la vie d\u2019une petite fille.\n",
            "\n",
            "Et depuis ce jour, Clara ne regarda plus jamais le ciel de la m\u00eame mani\u00e8re. Chaque fois qu\u2019elle voyait \u00c9toilelette briller, elle se souvenait de leur aventure et du pouvoir de l\u2019espoir.\n",
            "\n",
            "### Fin\n",
            "\n",
            "\n",
            "\ud83d\udcdd Prompt: Por favor, cu\u00e9ntame una historia en espa\u00f1ol.\n",
            "\ud83d\udcd8 Response: ### La Leyenda del Lago Espejo\n",
            "\n",
            "En un peque\u00f1o pueblo rodeado de monta\u00f1as, exist\u00eda un lago conocido como el Lago Espejo. Se dec\u00eda que sus aguas eran tan claras que reflejaban el cielo como un espejo. Sin embargo, hab\u00eda algo m\u00e1s en ese lago que lo hac\u00eda especial: se cre\u00eda que quien se mirara en sus aguas podr\u00eda ver su verdadero destino.\n",
            "\n",
            "Una joven llamada Clara, curiosa y aventurera, hab\u00eda escuchado muchas historias sobre el Lago Espejo desde ni\u00f1a. Un d\u00eda, decidi\u00f3 que era hora de descubrir la verdad por s\u00ed misma. Con una mochila llena de provisiones y su coraz\u00f3n lleno de esperanza, emprendi\u00f3 el camino hacia el lago.\n",
            "\n",
            "Despu\u00e9s de varias horas de caminata, Clara lleg\u00f3 al lago al atardecer. El sol se ocultaba detr\u00e1s de las monta\u00f1as, pintando el cielo de colores anaranjados y morados. Al acercarse a la orilla, sinti\u00f3 una mezcla de emoci\u00f3n y nerviosismo. Se arrodill\u00f3 y mir\u00f3 fijamente su reflejo en el agua.\n",
            "\n",
            "Al principio, vio su propia imagen, pero poco a poco, la superficie comenz\u00f3 a cambiar. En lugar de su reflejo, apareci\u00f3 una escena de su vida futura: Clara, rodeada de amigos y familiares, sonriendo en una celebraci\u00f3n. Vio c\u00f3mo hab\u00eda logrado abrir su propio taller de cer\u00e1mica, un sue\u00f1o que hab\u00eda tenido desde peque\u00f1a.\n",
            "\n",
            "Sin embargo, la visi\u00f3n tambi\u00e9n le mostr\u00f3 momentos dif\u00edciles: desaf\u00edos y obst\u00e1culos que tendr\u00eda que enfrentar. A pesar de esto, Clara sinti\u00f3 una profunda determinaci\u00f3n. Sab\u00eda que, aunque el camino no ser\u00eda f\u00e1cil, estaba dispuesta a luchar por su sue\u00f1o.\n",
            "\n",
            "Con el coraz\u00f3n lleno de inspiraci\u00f3n, Clara regres\u00f3 a su pueblo. A partir de ese d\u00eda, trabaj\u00f3 incansablemente en su pasi\u00f3n por la cer\u00e1mica. Pasaron los a\u00f1os, y finalmente, logr\u00f3 abrir su taller. La gente del pueblo comenz\u00f3 a admirar su trabajo, y sus sue\u00f1os se convirtieron en realidad.\n",
            "\n",
            "Cada vez que alguien le preguntaba sobre su \u00e9xito, Clara sonre\u00eda y les contaba la historia del Lago Espejo, recordando que a veces, mirar hacia adentro es el primer paso para descubrir nuestro verdadero destino. Y as\u00ed, la leyenda del lago continu\u00f3, inspirando a otros a buscar sus sue\u00f1os y a no temer los desaf\u00edos que puedan encontrar en el camino.\n",
            "\n",
            "\n",
            "\ud83d\udcdd Prompt: \u0915\u0943\u092a\u092f\u093e \u0939\u093f\u0902\u0926\u0940 \u092e\u0947\u0902 \u090f\u0915 \u0915\u0939\u093e\u0928\u0940 \u0938\u0941\u0928\u093e\u0907\u090f\u0964\n",
            "\ud83d\udcd8 Response: ### \u0915\u0939\u093e\u0928\u0940: \u091a\u0924\u0941\u0930 \u0932\u094b\u092e\u0921\u093c\u0940 \u0914\u0930 \u092e\u0942\u0930\u094d\u0916 \u092c\u0915\u0930\u0940\n",
            "\n",
            "\u090f\u0915 \u092c\u093e\u0930 \u0915\u0940 \u092c\u093e\u0924 \u0939\u0948, \u090f\u0915 \u0918\u0928\u0947 \u091c\u0902\u0917\u0932 \u092e\u0947\u0902 \u090f\u0915 \u091a\u0924\u0941\u0930 \u0932\u094b\u092e\u0921\u093c\u0940 \u0914\u0930 \u090f\u0915 \u092e\u0942\u0930\u094d\u0916 \u092c\u0915\u0930\u0940 \u0930\u0939\u0924\u0947 \u0925\u0947\u0964 \u0932\u094b\u092e\u0921\u093c\u0940 \u0905\u092a\u0928\u0940 \u091a\u093e\u0932\u093e\u0915\u0940 \u0915\u0947 \u0932\u093f\u090f \u091c\u093e\u0928\u0940 \u091c\u093e\u0924\u0940 \u0925\u0940, \u091c\u092c\u0915\u093f \u092c\u0915\u0930\u0940 \u0905\u092a\u0928\u0940 \u092d\u094b\u0932\u0940 \u092d\u093e\u0932\u0940 \u0938\u094d\u0935\u092d\u093e\u0935 \u0915\u0947 \u0932\u093f\u090f\u0964\n",
            "\n",
            "#### \u0918\u091f\u0928\u093e \u0915\u093e \u0906\u0930\u0902\u092d\n",
            "\n",
            "\u090f\u0915 \u0926\u093f\u0928, \u0932\u094b\u092e\u0921\u093c\u0940 \u0928\u0947 \u0938\u094b\u091a\u093e \u0915\u093f \u0915\u094d\u092f\u094b\u0902 \u0928 \u092c\u0915\u0930\u0940 \u0915\u094b \u0927\u094b\u0916\u093e \u0926\u0947\u0915\u0930 \u0909\u0938\u0915\u093e \u0916\u093e\u0928\u093e \u091b\u0940\u0928 \u0932\u093f\u092f\u093e \u091c\u093e\u090f\u0964 \u0909\u0938\u0928\u0947 \u092c\u0915\u0930\u0940 \u0915\u094b \u0926\u0947\u0916\u093e \u0914\u0930 \u0909\u0938\u0915\u0947 \u092a\u093e\u0938 \u091c\u093e\u0915\u0930 \u092c\u094b\u0932\u0940, \"\u0939\u0947 \u092c\u0915\u0930\u0940, \u0924\u0941\u092e \u0915\u093f\u0924\u0928\u0940 \u0938\u0941\u0902\u0926\u0930 \u0939\u094b! \u0924\u0941\u092e\u094d\u0939\u093e\u0930\u0947 \u0926\u0942\u0927 \u0915\u093e \u0938\u094d\u0935\u093e\u0926 \u0924\u094b \u0905\u0926\u094d\u092d\u0941\u0924 \u0939\u094b\u0917\u093e\u0964\"\n",
            "\n",
            "\u092c\u0915\u0930\u0940 \u0932\u094b\u092e\u0921\u093c\u0940 \u0915\u0940 \u092c\u093e\u0924\u0947\u0902 \u0938\u0941\u0928\u0915\u0930 \u0916\u0941\u0936 \u0939\u094b \u0917\u0908\u0964 \u0909\u0938\u0928\u0947 \u0915\u0939\u093e, \"\u0927\u0928\u094d\u092f\u0935\u093e\u0926, \u0932\u094b\u092e\u0921\u093c\u0940! \u0924\u0941\u092e \u092d\u0940 \u092c\u0939\u0941\u0924 \u0938\u0941\u0902\u0926\u0930 \u0939\u094b\u0964\"\n",
            "\n",
            "#### \u0927\u094b\u0916\u0947 \u0915\u093e \u0916\u0947\u0932\n",
            "\n",
            "\u0932\u094b\u092e\u0921\u093c\u0940 \u0928\u0947 \u0915\u0939\u093e, \"\u0905\u0917\u0930 \u0924\u0941\u092e \u092e\u0941\u091d\u0947 \u0905\u092a\u0928\u093e \u0926\u0942\u0927 \u0926\u094b, \u0924\u094b \u092e\u0948\u0902 \u0924\u0941\u092e\u094d\u0939\u0947\u0902 \u090f\u0915 \u091c\u093e\u0926\u0941\u0908 \u0918\u093e\u0938 \u0926\u093f\u0916\u093e \u0938\u0915\u0924\u0940 \u0939\u0942\u0901, \u091c\u094b \u0924\u0941\u092e\u094d\u0939\u093e\u0930\u0947 \u0926\u0942\u0927 \u0915\u094b \u0914\u0930 \u092d\u0940 \u092e\u0940\u0920\u093e \u092c\u0928\u093e \u0926\u0947\u0917\u0940\u0964\" \u092c\u0915\u0930\u0940 \u0928\u0947 \u0932\u094b\u092e\u0921\u093c\u0940 \u092a\u0930 \u0935\u093f\u0936\u094d\u0935\u093e\u0938 \u0915\u093f\u092f\u093e \u0914\u0930 \u0909\u0938\u0947 \u0905\u092a\u0928\u0947 \u0938\u093e\u0925 \u0932\u0947 \u091a\u0932\u0928\u0947 \u0915\u093e \u0928\u093f\u0930\u094d\u0923\u092f \u0932\u093f\u092f\u093e\u0964\n",
            "\n",
            "\u0935\u0947 \u0926\u094b\u0928\u094b\u0902 \u091c\u0902\u0917\u0932 \u0915\u0947 \u090f\u0915 \u0915\u094b\u0928\u0947 \u092e\u0947\u0902 \u092a\u0939\u0941\u0901\u091a\u0947, \u091c\u0939\u093e\u0901 \u0932\u094b\u092e\u0921\u093c\u0940 \u0928\u0947 \u0915\u0939\u093e, \"\u092f\u0939\u093e\u0901 \u091c\u093e\u0926\u0941\u0908 \u0918\u093e\u0938 \u0939\u0948\u0964 \u0932\u0947\u0915\u093f\u0928 \u0924\u0941\u092e\u094d\u0939\u0947\u0902 \u092a\u0939\u0932\u0947 \u092e\u0941\u091d\u0947 \u0905\u092a\u0928\u093e \u0926\u0942\u0927 \u0926\u0947\u0928\u093e \u0939\u094b\u0917\u093e\u0964\" \u092c\u0915\u0930\u0940 \u0928\u0947 \u092c\u093f\u0928\u093e \u0938\u094b\u091a\u0947 \u0938\u092e\u091d\u0947 \u0905\u092a\u0928\u093e \u0926\u0942\u0927 \u0932\u094b\u092e\u0921\u093c\u0940 \u0915\u094b \u0926\u0947 \u0926\u093f\u092f\u093e\u0964\n",
            "\n",
            "#### \u092a\u0930\u093f\u0923\u093e\u092e\n",
            "\n",
            "\u091c\u0948\u0938\u0947 \u0939\u0940 \u092c\u0915\u0930\u0940 \u0928\u0947 \u0905\u092a\u0928\u093e \u0926\u0942\u0927 \u0926\u093f\u092f\u093e, \u0932\u094b\u092e\u0921\u093c\u0940 \u0928\u0947 \u0909\u0938\u0947 \u0927\u094b\u0916\u093e \u0926\u0947\u0915\u0930 \u0935\u0939\u093e\u0901 \u0938\u0947 \u092d\u093e\u0917 \u0928\u093f\u0915\u0932\u0940\u0964 \u092c\u0915\u0930\u0940 \u0938\u092e\u091d \u0917\u0908 \u0915\u093f \u0935\u0939 \u0927\u094b\u0916\u0947 \u092e\u0947\u0902 \u0906 \u0917\u0908 \u0939\u0948, \u0932\u0947\u0915\u093f\u0928 \u0905\u092c \u092a\u091b\u0924\u093e\u0928\u0947 \u0915\u093e \u0915\u094b\u0908 \u092b\u093e\u092f\u0926\u093e \u0928\u0939\u0940\u0902 \u0925\u093e\u0964 \n",
            "\n",
            "#### \u0938\u0940\u0916\n",
            "\n",
            "\u0907\u0938 \u0918\u091f\u0928\u093e \u0938\u0947 \u092c\u0915\u0930\u0940 \u0928\u0947 \u0938\u0940\u0916\u093e \u0915\u093f \u0915\u093f\u0938\u0940 \u092a\u0930 blindly \u092d\u0930\u094b\u0938\u093e \u0915\u0930\u0928\u093e \u0938\u0939\u0940 \u0928\u0939\u0940\u0902 \u0939\u0948\u0964 \u0909\u0938\u0947 \u0938\u092e\u091d \u092e\u0947\u0902 \u0906\u092f\u093e \u0915\u093f \u091a\u093e\u0932\u093e\u0915 \u0932\u094b\u0917\u094b\u0902 \u0938\u0947 \u0926\u0942\u0930 \u0930\u0939\u0928\u093e \u091a\u093e\u0939\u093f\u090f \u0914\u0930 \u0939\u092e\u0947\u0936\u093e \u0938\u0924\u0930\u094d\u0915 \u0930\u0939\u0928\u093e \u091a\u093e\u0939\u093f\u090f\u0964\n",
            "\n",
            "\u0907\u0938 \u092a\u094d\u0930\u0915\u093e\u0930, \u092c\u0915\u0930\u0940 \u0928\u0947 \u0905\u092a\u0928\u0940 \u0917\u0932\u0924\u0940 \u0938\u0947 \u0938\u092c\u0915 \u0938\u0940\u0916\u093e \u0914\u0930 \u0906\u0917\u0947 \u0938\u0947 \u0939\u092e\u0947\u0936\u093e \u0938\u093e\u0935\u0927\u093e\u0928\u0940 \u092c\u0930\u0924\u0928\u0947 \u0932\u0917\u0940\u0964\n",
            "\n",
            "### \u0938\u092e\u093e\u092a\u094d\u0924\n",
            "\n",
            "\u092f\u0939 \u0915\u0939\u093e\u0928\u0940 \u0939\u092e\u0947\u0902 \u092f\u0939 \u0938\u093f\u0916\u093e\u0924\u0940 \u0939\u0948 \u0915\u093f \u0939\u092e\u0947\u0902 \u0939\u092e\u0947\u0936\u093e \u0938\u0924\u0930\u094d\u0915 \u0930\u0939\u0928\u093e \u091a\u093e\u0939\u093f\u090f \u0914\u0930 \u0915\u093f\u0938\u0940 \u092a\u0930 \u092d\u0940 \u092c\u093f\u0928\u093e \u0938\u094b\u091a-\u0935\u093f\u091a\u093e\u0930 \u0915\u0947 \u092d\u0930\u094b\u0938\u093e \u0928\u0939\u0940\u0902 \u0915\u0930\u0928\u093e \u091a\u093e\u0939\u093f\u090f\u0964\n",
            "\n",
            "\n",
            "\ud83d\udcdd Prompt: Bitte erz\u00e4hle mir eine Geschichte auf Deutsch.\n",
            "\ud83d\udcd8 Response: Es war einmal in einem kleinen Dorf am Fu\u00df eines gro\u00dfen, majest\u00e4tischen Berges. Das Dorf war bekannt f\u00fcr seine freundlichen Menschen und die bunten Blumen, die \u00fcberall bl\u00fchten. In diesem Dorf lebte ein junger Mann namens Lukas. Er hatte immer davon getr\u00e4umt, den Gipfel des gro\u00dfen Berges zu erklimmen, der das Dorf \u00fcberragte.\n",
            "\n",
            "Eines Morgens, als die Sonne gerade aufging und die ersten Strahlen das Dorf erhellten, beschloss Lukas, dass es endlich Zeit war, seinen Traum zu verwirklichen. Er packte einige Vorr\u00e4te \u2013 Wasser, Brot und eine kleine Decke \u2013 und machte sich auf den Weg.\n",
            "\n",
            "Der Aufstieg war steil und beschwerlich. Lukas musste durch dichte W\u00e4lder gehen, \u00fcber glitschige Steine klettern und sich durch Gestr\u00fcpp k\u00e4mpfen. Doch je h\u00f6her er kam, desto sch\u00f6ner wurde die Aussicht. Er konnte das gesamte Dorf sehen, das wie ein kleines Spielzeughaus in der Ferne lag.\n",
            "\n",
            "Nach Stunden des Wanderns gelangte Lukas an einen schmalen Grat, von dem aus er den Gipfel des Berges sehen konnte. Pl\u00f6tzlich h\u00f6rte er ein leises Ger\u00e4usch. Neugierig schaute er sich um und entdeckte einen verletzten Vogel, der auf dem Boden lag. Der Vogel hatte sich anscheinend den Fl\u00fcgel gebrochen.\n",
            "\n",
            "Lukas erinnerte sich daran, dass seine Mutter ihm beigebracht hatte, dass man immer anderen helfen sollte, egal wie klein sie sind. Er kniete sich neben den Vogel und verband vorsichtig seinen Fl\u00fcgel mit einem St\u00fcck Stoff aus seiner Decke. Der Vogel sah ihn dankbar an und blieb ruhig.\n",
            "\n",
            "Nachdem er dem Vogel geholfen hatte, setzte Lukas seinen Weg fort. Endlich, nach vielen M\u00fchen, erreichte er den Gipfel des Berges. Die Aussicht war atemberaubend. Er konnte die Wolken ber\u00fchren und die Welt unter ihm bewundern. In diesem Moment f\u00fchlte er sich frei und gl\u00fccklich.\n",
            "\n",
            "Als er sich umdrehte, bemerkte er, dass der Vogel ihm gefolgt war. Er sa\u00df jetzt auf einem Stein und sang ein wundersch\u00f6nes Lied. Lukas l\u00e4chelte und verstand, dass die wahre Belohnung nicht nur im Erreichen des Ziels lag, sondern auch im Helfen anderer und der Liebe zur Natur.\n",
            "\n",
            "Von diesem Tag an besuchte Lukas oft den Gipfel des Berges, und jedes Mal brachte er etwas Futter f\u00fcr seinen gefiederten Freund mit. Die beiden wurden unzertrennliche Gef\u00e4hrten, und Lukas wusste, dass er nie wieder alleine sein w\u00fcrde. Und so lebten sie gl\u00fccklich und zufrieden in ihrem kleinen Dorf, verbunden durch Freundschaft und Abenteuer.\n",
            "\n",
            "Und wenn sie nicht gestorben sind, dann leben sie noch heute.\n",
            "\n"
          ]
        }
      ],
      "source": [
        "for prompt in prompts:\n",
        "    response = agent.run(prompt)\n",
        "    print(f\"\\n\ud83d\udcdd Prompt: {prompt}\\n\ud83d\udcd8 Response: {response.content}\\n\")"
      ]
    },
    {
      "cell_type": "markdown",
      "metadata": {
        "id": "woMOcS1eZEs4"
      },
      "source": [
        "###Initialize Sutra Model and Start Chatbot Interaction"
      ]
    },
    {
      "cell_type": "code",
      "execution_count": null,
      "metadata": {
        "colab": {
          "base_uri": "https://localhost:8080/"
        },
        "id": "6CNxXhmcV0yr",
        "outputId": "1abde6ae-f1d0-44f6-b971-6f4b0d4e5b5d"
      },
      "outputs": [
        {
          "name": "stdout",
          "output_type": "stream",
          "text": [
            "\ud83d\udcac Chatbot ready (type 'exit' to quit)\n",
            "\n",
            "You: hello\n",
            "Bot: Hello! How can I assist you today?\n",
            "You: About Agno AI\n",
            "Bot: Agno AI is a technology company focused on developing artificial intelligence solutions. It aims to leverage advanced machine learning techniques to create tools that enhance productivity, improve decision-making, and facilitate automation across various industries. \n",
            "\n",
            "### Key Features of Agno AI:\n",
            "- **Natural Language Processing (NLP)**: Enabling machines to understand and respond to human language effectively.\n",
            "- **Machine Learning**: Utilizing algorithms that allow systems to learn from data and improve over time without explicit programming.\n",
            "- **Automation Solutions**: Implementing AI-driven processes that streamline business operations and reduce manual effort.\n",
            "\n",
            "### Applications:\n",
            "- **Customer Service**: Chatbots and virtual assistants powered by AI help address customer inquiries and support issues.\n",
            "- **Data Analysis**: Tools that analyze large datasets to uncover insights and trends, aiding in strategic planning.\n",
            "- **Personalization**: Algorithms that tailor recommendations and experiences based on user behavior and preferences.\n",
            "\n",
            "Agno AI continues to evolve as the field of artificial intelligence advances, contributing to various sectors such as healthcare, finance, and education.\n",
            "You: About Sutra by TWO AI\n",
            "Bot: SUTRA by TWO AI is an advanced multilingual AI model designed with a unique dual-transformer architecture. This innovative design enables SUTRA to understand and generate human-like text across various languages, enhancing communication and accessibility. The model is trained on a diverse dataset, allowing it to handle a wide range of topics and queries effectively.\n",
            "\n",
            "Key features of SUTRA include:\n",
            "\n",
            "- **Multilingual Capabilities**: Proficient in numerous languages, making it suitable for global applications.\n",
            "- **Contextual Understanding**: Can grasp the context of conversations, providing relevant and coherent responses.\n",
            "- **Adaptability**: Designed to learn from interactions, improving its performance over time.\n",
            "- **User-Friendly Interface**: Aimed at providing seamless interaction for users, whether for casual inquiries or more complex tasks.\n",
            "\n",
            "The development of SUTRA showcases the commitment of TWO AI to push the boundaries of artificial intelligence, making it a valuable tool for both individuals and organizations looking to leverage AI technology.\n",
            "You: exit\n",
            "Bot: Goodbye! \ud83d\udc4b\n"
          ]
        }
      ],
      "source": [
        "from agno.agent import Agent\n",
        "from agno.models.openai.like import OpenAILike\n",
        "\n",
        "agent = Agent(\n",
        "    model=OpenAILike(\n",
        "        id=\"sutra-v2\",\n",
        "        api_key=os.getenv(\"SUTRA_API_KEY\"),\n",
        "        base_url=\"https://api.two.ai/v2\"\n",
        "    ),\n",
        "    markdown=True\n",
        ")\n",
        "\n",
        "print(\"\ud83d\udcac Chatbot ready (type 'exit' to quit)\\n\")\n",
        "\n",
        "while True:\n",
        "    user_input = input(\"You: \")\n",
        "    if user_input.lower() == \"exit\":\n",
        "        print(\"Bot: Goodbye! \ud83d\udc4b\")\n",
        "        break\n",
        "\n",
        "    response = agent.run(user_input)\n",
        "    print(\"Bot:\", response.content)"
      ]
    },
    {
      "cell_type": "markdown",
      "metadata": {
        "id": "ddRYRiB8ZS7g"
      },
      "source": [
        "### Initialize Agent with Sutra Model and Tavily Tool"
      ]
    },
    {
      "cell_type": "code",
      "execution_count": null,
      "metadata": {
        "colab": {
          "base_uri": "https://localhost:8080/"
        },
        "id": "jWzfR2p4UTdn",
        "outputId": "ca26ea49-8056-477e-f188-69e9f342f057"
      },
      "outputs": [
        {
          "name": "stdout",
          "output_type": "stream",
          "text": [
            "SUTRA is an advanced AI model developed by TWO AI, utilizing a unique dual-transformer architecture. This design enhances the model's ability to understand and generate human-like text across various languages and contexts. Founded by Pranav Mistry, TWO AI focuses on creating innovative AI solutions that can effectively assist users in diverse applications.\n",
            "\n",
            "If you need specific information about SUTRA's features, capabilities, or applications, please let me know!\n"
          ]
        }
      ],
      "source": [
        "import os\n",
        "from agno.agent import Agent\n",
        "from agno.models.openai.like import OpenAILike\n",
        "from agno.tools.tavily import TavilyTools\n",
        "\n",
        "# Initialize the agent with Sutra model and Tavily tool\n",
        "agent = Agent(\n",
        "    model=OpenAILike(\n",
        "        id=\"sutra-v2\",\n",
        "        api_key=os.getenv(\"SUTRA_API_KEY\"),\n",
        "        base_url=\"https://api.two.ai/v2\"\n",
        "    ),\n",
        "    tools=[TavilyTools()],\n",
        "    description=\"You are a search agent capable of answering queries using Tavily search.\",\n",
        "    instructions=[\n",
        "        \"Always use Tavily search to fetch relevant information for the user's query.\",\n",
        "        \"Provide concise, informative, and relevant answers based on the search results.\"\n",
        "    ],\n",
        "    show_tool_calls=True,\n",
        "    markdown=True\n",
        ")\n",
        "\n",
        "# Run a sample query using Tavily\n",
        "response = agent.run(\"About SUTRA by TWO AI\")\n",
        "print(response.content)"
      ]
    },
    {
      "cell_type": "markdown",
      "metadata": {
        "id": "kbXZI12sYt7e"
      },
      "source": [
        "###Agentic RAG with LanceDB using Sutra LLM in Agno Framework"
      ]
    },
    {
      "cell_type": "code",
      "execution_count": null,
      "metadata": {
        "colab": {
          "base_uri": "https://localhost:8080/",
          "height": 995,
          "referenced_widgets": [
            "259b5a854b2747f6909443a34a054196",
            "d4e02caaaed54edf8fc9f5352d1c192e"
          ]
        },
        "id": "x65vStMEXy1n",
        "outputId": "6b1e6a7e-db5c-41de-f8bc-e9470b7cccbb"
      },
      "outputs": [
        {
          "data": {
            "text/html": [
              "<pre style=\"white-space:pre;overflow-x:auto;line-height:normal;font-family:Menlo,'DejaVu Sans Mono',consolas,'Courier New',monospace\"><span style=\"color: #000080; text-decoration-color: #000080\">INFO</span> Loading knowledge base                                                                                        \n",
              "</pre>\n"
            ],
            "text/plain": [
              "\u001b[34mINFO\u001b[0m Loading knowledge base                                                                                        \n"
            ]
          },
          "metadata": {},
          "output_type": "display_data"
        },
        {
          "data": {
            "text/html": [
              "<pre style=\"white-space:pre;overflow-x:auto;line-height:normal;font-family:Menlo,'DejaVu Sans Mono',consolas,'Courier New',monospace\"><span style=\"color: #000080; text-decoration-color: #000080\">INFO</span> Reading: <span style=\"color: #0000ff; text-decoration-color: #0000ff; text-decoration: underline\">https://agno-public.s3.amazonaws.com/recipes/ThaiRecipes.pdf</span>                                         \n",
              "</pre>\n"
            ],
            "text/plain": [
              "\u001b[34mINFO\u001b[0m Reading: \u001b[4;94mhttps://agno-public.s3.amazonaws.com/recipes/ThaiRecipes.pdf\u001b[0m                                         \n"
            ]
          },
          "metadata": {},
          "output_type": "display_data"
        },
        {
          "data": {
            "text/html": [
              "<pre style=\"white-space:pre;overflow-x:auto;line-height:normal;font-family:Menlo,'DejaVu Sans Mono',consolas,'Courier New',monospace\"><span style=\"color: #000080; text-decoration-color: #000080\">INFO</span> No documents to insert                                                                                        \n",
              "</pre>\n"
            ],
            "text/plain": [
              "\u001b[34mINFO\u001b[0m No documents to insert                                                                                        \n"
            ]
          },
          "metadata": {},
          "output_type": "display_data"
        },
        {
          "data": {
            "text/html": [
              "<pre style=\"white-space:pre;overflow-x:auto;line-height:normal;font-family:Menlo,'DejaVu Sans Mono',consolas,'Courier New',monospace\"><span style=\"color: #000080; text-decoration-color: #000080\">INFO</span> Added <span style=\"color: #008080; text-decoration-color: #008080; font-weight: bold\">0</span> documents to knowledge base                                                                           \n",
              "</pre>\n"
            ],
            "text/plain": [
              "\u001b[34mINFO\u001b[0m Added \u001b[1;36m0\u001b[0m documents to knowledge base                                                                           \n"
            ]
          },
          "metadata": {},
          "output_type": "display_data"
        },
        {
          "data": {
            "application/vnd.jupyter.widget-view+json": {
              "model_id": "259b5a854b2747f6909443a34a054196",
              "version_major": 2,
              "version_minor": 0
            },
            "text/plain": [
              "Output()"
            ]
          },
          "metadata": {},
          "output_type": "display_data"
        },
        {
          "data": {
            "text/html": [
              "<pre style=\"white-space:pre;overflow-x:auto;line-height:normal;font-family:Menlo,'DejaVu Sans Mono',consolas,'Courier New',monospace\"></pre>\n"
            ],
            "text/plain": []
          },
          "metadata": {},
          "output_type": "display_data"
        }
      ],
      "source": [
        "import os\n",
        "from agno.agent import Agent\n",
        "from agno.models.openai.like import OpenAILike\n",
        "from agno.embedder.openai import OpenAIEmbedder\n",
        "from agno.knowledge.pdf_url import PDFUrlKnowledgeBase\n",
        "from agno.vectordb.lancedb import LanceDb, SearchType\n",
        "\n",
        "# Step 1: Define the Knowledge Base from PDF URL\n",
        "knowledge_base = PDFUrlKnowledgeBase(\n",
        "    urls=[\"https://agno-public.s3.amazonaws.com/recipes/ThaiRecipes.pdf\"],\n",
        "    vector_db=LanceDb(\n",
        "        table_name=\"recipes\",\n",
        "        uri=\"tmp/lancedb\",\n",
        "        search_type=SearchType.vector,\n",
        "        embedder=OpenAIEmbedder(id=\"text-embedding-3-small\"),\n",
        "    ),\n",
        ")\n",
        "\n",
        "# Step 2: Load knowledge base (Run only once; comment in later runs)\n",
        "knowledge_base.load()\n",
        "\n",
        "# Step 3: Define the Agent using Sutra (OpenAI-compatible via OpenAILike)\n",
        "agent = Agent(\n",
        "    model=OpenAILike(\n",
        "        id=\"sutra-v2\",\n",
        "        api_key=os.getenv(\"SUTRA_API_KEY\"),\n",
        "        base_url=\"https://api.two.ai/v2\"\n",
        "    ),\n",
        "    knowledge=knowledge_base,\n",
        "    search_knowledge=True,   # Enables agentic RAG behavior\n",
        "    show_tool_calls=True,    # Show tool usage by agent\n",
        "    markdown=True            # Output in markdown\n",
        ")\n",
        "\n",
        "# Step 4: Ask your question\n",
        "agent.print_response(\n",
        "    \"How do I make chicken and galangal in coconut milk soup?\", stream=True\n",
        ")"
      ]
    },
    {
      "cell_type": "markdown",
      "metadata": {
        "id": "6n8ZK3A5oveN"
      },
      "source": [
        "###\ud83c\udf7f PopcornPal - Movie Recommendation Agent \ud83c\udfac"
      ]
    },
    {
      "cell_type": "code",
      "execution_count": null,
      "metadata": {
        "colab": {
          "base_uri": "https://localhost:8080/",
          "height": 1000,
          "referenced_widgets": [
            "904259bb19e8478d92565e64e29ba5b1",
            "302691f07a1e4cec85a4b4c8a9822a74"
          ]
        },
        "id": "sfMmnl5GlrQt",
        "outputId": "9cfee136-c402-4a55-ec2c-52d704dc1f52"
      },
      "outputs": [
        {
          "data": {
            "application/vnd.jupyter.widget-view+json": {
              "model_id": "904259bb19e8478d92565e64e29ba5b1",
              "version_major": 2,
              "version_minor": 0
            },
            "text/plain": [
              "Output()"
            ]
          },
          "metadata": {},
          "output_type": "display_data"
        },
        {
          "data": {
            "text/html": [
              "<pre style=\"white-space:pre;overflow-x:auto;line-height:normal;font-family:Menlo,'DejaVu Sans Mono',consolas,'Courier New',monospace\"></pre>\n"
            ],
            "text/plain": []
          },
          "metadata": {},
          "output_type": "display_data"
        }
      ],
      "source": [
        "import os\n",
        "from textwrap import dedent\n",
        "from agno.agent import Agent\n",
        "from agno.models.openai.like import OpenAILike\n",
        "from agno.tools.tavily import TavilyTools\n",
        "\n",
        "\n",
        "# \u2705 Define the Agent\n",
        "agent = Agent(\n",
        "    name=\"PopcornPal\",\n",
        "    tools=[TavilyTools()],\n",
        "    model=OpenAILike(\n",
        "        id=\"sutra-v2\",\n",
        "        api_key=os.getenv(\"SUTRA_API_KEY\"),\n",
        "        base_url=\"https://api.two.ai/v2\"\n",
        "    ),\n",
        "    description=dedent(\"\"\"\\\n",
        "        You are PopcornPal, a passionate film expert helping users discover amazing movies. \ud83c\udfac\n",
        "        Suggest detailed, high-quality recommendations based on user tastes and movie ratings.\n",
        "    \"\"\"),\n",
        "    instructions=dedent(\"\"\"\\\n",
        "        Steps:\n",
        "        1. Understand user's taste.\n",
        "        2. Use Tavily to search for recent movies with good ratings (IMDb > 7.5).\n",
        "        3. Recommend 5+ movies with: Title, Year, Genre, Rating, Summary, Director, Cast.\n",
        "        4. Format in Markdown table. Add \ud83c\udfac or genre emojis. Mention streaming if known.\n",
        "    \"\"\"),\n",
        "    markdown=True,\n",
        "    show_tool_calls=True,\n",
        "    add_datetime_to_instructions=True\n",
        ")\n",
        "\n",
        "# \ud83c\udfaf Ask for recommendations\n",
        "agent.print_response(\n",
        "    \"Suggest thriller movies with IMDb rating above 8. I enjoyed Parasite, The Dark Knight, and Inception.\",\n",
        "    stream=True\n",
        ")\n"
      ]
    }
  ],
  "metadata": {
    "colab": {
      "provenance": []
    },
    "kernelspec": {
      "display_name": "Python 3",
      "name": "python3"
    },
    "language_info": {
      "name": "python"
    }
  },
  "nbformat": 4,
  "nbformat_minor": 0
}